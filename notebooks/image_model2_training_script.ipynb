{
 "cells": [
  {
   "cell_type": "markdown",
   "metadata": {},
   "source": [
    "# Reading Scrapped Files"
   ]
  },
  {
   "cell_type": "code",
   "execution_count": null,
   "metadata": {},
   "outputs": [],
   "source": [
    "import pandas as pd\n",
    "df_amazon_women = pd.read_csv(\"scraped_data/Amazon_women.csv\", thousands = ',')\n",
    "df_amazon_men = pd.read_csv(\"scraped_data/Amazon_Men.csv\", thousands = ',')\n",
    "df_myntra_men = pd.read_csv(\"scraped_data/myntra_men_latest.csv\")\n",
    "df_myntra_women = pd.read_csv(\"scraped_data/myntra_women_latest.csv\")\n",
    "\n"
   ]
  },
  {
   "cell_type": "markdown",
   "metadata": {},
   "source": [
    "# Pre-Processing"
   ]
  },
  {
   "cell_type": "code",
   "execution_count": null,
   "metadata": {},
   "outputs": [],
   "source": [
    "df_myntra_men = df_myntra_men.dropna()\n",
    "df_myntra_women = df_myntra_women.dropna()\n",
    "\n",
    "df_myntra_men.rename(columns = {'image': 'Links', 'rating': 'Rating', 'reviews' : 'Reviews'}, inplace = True)\n",
    "df_myntra_women.rename(columns = {'image': 'Links', 'rating': 'Rating', 'reviews' : 'Reviews'}, inplace = True)"
   ]
  },
  {
   "cell_type": "code",
   "execution_count": null,
   "metadata": {},
   "outputs": [],
   "source": [
    "df_myntra_men[\"Reviews\"] = df_myntra_men[\"Reviews\"].str.split(expand=True)[0]\n",
    "\n",
    "df_myntra_men.Reviews = (df_myntra_men.Reviews.replace(r'[Kk]+$', '', regex=True).astype(float) * df_myntra_men.Reviews.str.extract(r'[\\d\\.]+([Kk]+)', expand=False).fillna(1).replace(['K','k'], [10**3, 10**3]).astype(int))"
   ]
  },
  {
   "cell_type": "code",
   "execution_count": null,
   "metadata": {
    "scrolled": false
   },
   "outputs": [],
   "source": [
    "df_myntra_women[\"Reviews\"] = df_myntra_women[\"Reviews\"].str.split(expand=True)[0]\n",
    "\n",
    "df_myntra_women.Reviews = (df_myntra_women.Reviews.replace(r'[Kk]+$', '', regex=True).astype(float) * df_myntra_women.Reviews.str.extract(r'[\\d\\.]+([Kk]+)', expand=False).fillna(1).replace(['K','k'], [10**3, 10**3]).astype(int))"
   ]
  },
  {
   "cell_type": "code",
   "execution_count": null,
   "metadata": {},
   "outputs": [],
   "source": [
    "for i in range(len(df_amazon_men)):\n",
    "  try:\n",
    "    df_amazon_men.iloc[i][3] = df_amazon_men.iloc[i][3].split(\" \")[0].replace(\",\", \"\")\n",
    "  except:\n",
    "    pass\n",
    "\n",
    "for i in range(len(df_amazon_women)):\n",
    "  try:\n",
    "    df_amazon_women.iloc[i][3] = df_amazon_women.iloc[i][3].split(\" \")[0].replace(\",\", \"\")\n",
    "  except:\n",
    "    pass\n",
    "\n",
    "df_amazon_men[\"Reviews\"] = df_amazon_men[\"Reviews\"].astype('int32')\n",
    "df_amazon_women[\"Reviews\"] = df_amazon_women[\"Reviews\"].astype('int32')"
   ]
  },
  {
   "cell_type": "code",
   "execution_count": null,
   "metadata": {
    "scrolled": false
   },
   "outputs": [],
   "source": [
    "df_amazon = pd.read_csv(\"scraped_data/df_amazon.csv\", thousands = ',')\n",
    "df_flipkart = pd.read_csv(\"scraped_data/df_flipkart.csv\", thousands = ',')\n",
    "\n",
    "df_amazon = df_amazon.drop(columns=[\"Unnamed: 0\"])\n",
    "\n",
    "for i in range(len(df_amazon)):\n",
    "  try:\n",
    "    df_amazon.iloc[i][1] = df_amazon.iloc[i][1].split(\" \")[0]\n",
    "  except:\n",
    "    pass\n",
    "  try:\n",
    "    df_amazon.iloc[i][2] = df_amazon.iloc[i][2].split(\" \")[0].replace(\",\", \"\")\n",
    "  except:\n",
    "    pass\n",
    "\n",
    "df_flipkart = df_flipkart.drop(columns=[\"Unnamed: 0\"])\n",
    "\n",
    "for i in range(len(df_flipkart)):\n",
    "  try:\n",
    "    df_flipkart.iloc[i][1] = df_flipkart.iloc[i][1].split(\" \")[0]\n",
    "  except:\n",
    "    pass\n",
    "  try:\n",
    "    df_flipkart.iloc[i][2] = df_flipkart.iloc[i][2].split(\" \")[0].replace(\",\", \"\")\n",
    "  except:\n",
    "    pass"
   ]
  },
  {
   "cell_type": "code",
   "execution_count": null,
   "metadata": {},
   "outputs": [],
   "source": [
    "df_amazon[\"rating\"] = df_amazon[\"rating\"].astype('float32')\n",
    "df_amazon[\"no_of_reviews\"] = df_amazon[\"no_of_reviews\"].astype('int32')\n",
    "\n",
    "df_flipkart[\"rating\"] = df_flipkart[\"rating\"].astype('float32')\n",
    "df_flipkart[\"no_of_reviews\"] = df_flipkart[\"no_of_reviews\"].astype('int32')"
   ]
  },
  {
   "cell_type": "code",
   "execution_count": null,
   "metadata": {},
   "outputs": [],
   "source": [
    "df_amazon.rename(columns = {'img_links': 'Links', 'rating': 'Rating', 'no_of_reviews' : 'Reviews'}, inplace = True)\n",
    "df_flipkart.rename(columns = {'img_links': 'Links', 'rating': 'Rating', 'no_of_reviews' : 'Reviews'}, inplace = True)"
   ]
  },
  {
   "cell_type": "markdown",
   "metadata": {},
   "source": [
    "# Merging All the PreProcessed Data Into One File"
   ]
  },
  {
   "cell_type": "code",
   "execution_count": null,
   "metadata": {},
   "outputs": [],
   "source": [
    "df_merged = pd.concat([df_amazon, df_flipkart, df_amazon_men, df_amazon_women, df_myntra_men, df_myntra_women], axis=0, ignore_index=True)"
   ]
  },
  {
   "cell_type": "code",
   "execution_count": null,
   "metadata": {},
   "outputs": [],
   "source": [
    "df_merged = df_merged[[\"Links\", \"Rating\", \"Reviews\"]]"
   ]
  },
  {
   "cell_type": "markdown",
   "metadata": {},
   "source": [
    "# Calculating Popularity Metric For Trend Prediction"
   ]
  },
  {
   "cell_type": "code",
   "execution_count": null,
   "metadata": {},
   "outputs": [],
   "source": [
    "def pop_met(n, s):\n",
    "    top = s*(15+n)*1.0\n",
    "    bott = n+5*s*1.0\n",
    "    pm = top/bott\n",
    "    return pm\n",
    "\n",
    "df_merged[\"popularity\"] = pop_met(df_merged[\"Reviews\"], df_merged[\"Rating\"])"
   ]
  },
  {
   "cell_type": "code",
   "execution_count": null,
   "metadata": {},
   "outputs": [],
   "source": [
    "import matplotlib.pyplot as plt\n",
    "\n",
    "plt.plot(df_merged[\"popularity\"])"
   ]
  },
  {
   "cell_type": "markdown",
   "metadata": {},
   "source": [
    "# Classifying Images Based On Popularity Values Into Various Classes(Multi-Class Classificaton)"
   ]
  },
  {
   "cell_type": "code",
   "execution_count": null,
   "metadata": {},
   "outputs": [],
   "source": [
    "import urllib.request\n",
    "\n",
    "for i in range(len(df_merged)):\n",
    "    pop = df_merged.loc[i][\"popularity\"]\n",
    "    url = df_merged.loc[i][\"Links\"]\n",
    "    #print(url)\n",
    "    #print(pop)\n",
    "    if(pop < 3): urllib.request.urlretrieve(url, \"dataset/0/c\" + str(i) + \".jpg\")\n",
    "    elif(pop >= 3 and pop < 3.5) : urllib.request.urlretrieve(url, \"dataset/1/c\" + str(i) + \".jpg\")\n",
    "    elif(pop >= 3.5 and pop < 4) : urllib.request.urlretrieve(url, \"dataset/2/c\" + str(i) + \".jpg\")\n",
    "    else: urllib.request.urlretrieve(url, \"dataset/3/c\" + str(i) + \".jpg\")"
   ]
  },
  {
   "cell_type": "code",
   "execution_count": null,
   "metadata": {},
   "outputs": [],
   "source": [
    "df_merged.head()"
   ]
  },
  {
   "cell_type": "markdown",
   "metadata": {},
   "source": [
    "# Training Using On Various Layers Using Tensorflow Library"
   ]
  },
  {
   "cell_type": "code",
   "execution_count": null,
   "metadata": {},
   "outputs": [],
   "source": [
    "import tensorflow as tf\n",
    "from tensorflow.keras.preprocessing import image_dataset_from_directory\n",
    "\n",
    "BATCH_SIZE = 32\n",
    "IMG_SIZE = (160, 160)\n",
    "\n",
    "data_dir = \"dataset\"\n",
    "\n",
    "train_ds = tf.keras.preprocessing.image_dataset_from_directory(\n",
    "  data_dir,\n",
    "  validation_split=0.2,\n",
    "  shuffle = True,\n",
    "  subset=\"training\",\n",
    "  seed=123,\n",
    "  image_size=IMG_SIZE,\n",
    "  batch_size=BATCH_SIZE)\n",
    "\n",
    "val_ds = tf.keras.preprocessing.image_dataset_from_directory(\n",
    "  data_dir,\n",
    "  validation_split=0.2,\n",
    "  shuffle = True,\n",
    "  subset=\"validation\",\n",
    "  seed=123,\n",
    "  image_size=IMG_SIZE,\n",
    "  batch_size=BATCH_SIZE)"
   ]
  },
  {
   "cell_type": "code",
   "execution_count": null,
   "metadata": {},
   "outputs": [],
   "source": [
    "import matplotlib.pyplot as plt\n",
    "\n",
    "class_names = train_ds.class_names\n",
    "\n",
    "plt.figure(figsize=(10, 10))\n",
    "for images, labels in train_ds.take(1):\n",
    "  for i in range(9):\n",
    "    ax = plt.subplot(3, 3, i + 1)\n",
    "    plt.imshow(images[i].numpy().astype(\"uint8\"))\n",
    "    plt.title(class_names[labels[i]])\n",
    "    plt.axis(\"off\")"
   ]
  },
  {
   "cell_type": "markdown",
   "metadata": {},
   "source": [
    "# Image Reinfinement Adjusting Pixels etc."
   ]
  },
  {
   "cell_type": "code",
   "execution_count": null,
   "metadata": {},
   "outputs": [],
   "source": [
    "AUTOTUNE = tf.data.AUTOTUNE\n",
    "\n",
    "train_ds = train_ds.prefetch(buffer_size=AUTOTUNE)\n",
    "val_ds = val_ds.prefetch(buffer_size=AUTOTUNE)"
   ]
  },
  {
   "cell_type": "code",
   "execution_count": null,
   "metadata": {},
   "outputs": [],
   "source": [
    "rescale = tf.keras.layers.experimental.preprocessing.Rescaling(1./127.5, offset= -1)"
   ]
  },
  {
   "cell_type": "markdown",
   "metadata": {},
   "source": [
    "# Model For Image Classification"
   ]
  },
  {
   "cell_type": "code",
   "execution_count": null,
   "metadata": {},
   "outputs": [],
   "source": [
    "from tensorflow.keras.applications.vgg16 import VGG16\n",
    "\n",
    "IMG_SHAPE = IMG_SIZE + (3,)\n",
    "model = VGG16(weights=\"imagenet\", include_top=False, input_shape = IMG_SHAPE)"
   ]
  },
  {
   "cell_type": "code",
   "execution_count": null,
   "metadata": {},
   "outputs": [],
   "source": [
    "image_batch, label_batch = next(iter(train_ds))\n",
    "feature_batch = model(image_batch)\n",
    "print(feature_batch.shape)"
   ]
  },
  {
   "cell_type": "code",
   "execution_count": null,
   "metadata": {},
   "outputs": [],
   "source": [
    "model.trainable = False"
   ]
  },
  {
   "cell_type": "code",
   "execution_count": null,
   "metadata": {},
   "outputs": [],
   "source": [
    "global_average_layer = tf.keras.layers.GlobalAveragePooling2D()\n",
    "feature_batch_average = global_average_layer(feature_batch)\n",
    "print(feature_batch_average.shape)"
   ]
  },
  {
   "cell_type": "code",
   "execution_count": null,
   "metadata": {},
   "outputs": [],
   "source": [
    "prediction_layer = tf.keras.layers.Dense(4)\n",
    "prediction_batch = prediction_layer(feature_batch_average)\n",
    "print(prediction_batch.shape)"
   ]
  },
  {
   "cell_type": "markdown",
   "metadata": {},
   "source": [
    "# Passing Inputs For Various Layers"
   ]
  },
  {
   "cell_type": "code",
   "execution_count": null,
   "metadata": {},
   "outputs": [],
   "source": [
    "inputs = tf.keras.Input(shape=(160, 160, 3))\n",
    "x = rescale(inputs)\n",
    "x = model(x, training=False)\n",
    "x = global_average_layer(x)\n",
    "x = tf.keras.layers.Dropout(0.2)(x)\n",
    "outputs = prediction_layer(x)\n",
    "model = tf.keras.Model(inputs, outputs)"
   ]
  },
  {
   "cell_type": "code",
   "execution_count": null,
   "metadata": {},
   "outputs": [],
   "source": [
    "base_learning_rate = 0.0001\n",
    "model.compile(optimizer=tf.keras.optimizers.Adam(lr=base_learning_rate),\n",
    "              loss=tf.keras.losses.SparseCategoricalCrossentropy(from_logits=True),\n",
    "              metrics=['accuracy'])"
   ]
  },
  {
   "cell_type": "code",
   "execution_count": null,
   "metadata": {},
   "outputs": [],
   "source": [
    "initial_epochs = 10\n",
    "\n",
    "loss0, accuracy0 = model.evaluate(val_ds)"
   ]
  },
  {
   "cell_type": "code",
   "execution_count": null,
   "metadata": {},
   "outputs": [],
   "source": [
    "history = model.fit(train_ds,\n",
    "                    epochs=initial_epochs,\n",
    "                    validation_data=val_ds)"
   ]
  },
  {
   "cell_type": "markdown",
   "metadata": {},
   "source": [
    "# Saving The Model"
   ]
  },
  {
   "cell_type": "code",
   "execution_count": null,
   "metadata": {},
   "outputs": [],
   "source": [
    "model.save(\"image_model_v2\")"
   ]
  },
  {
   "cell_type": "code",
   "execution_count": null,
   "metadata": {},
   "outputs": [],
   "source": [
    "model.save(\"image_model_v2.h5\")"
   ]
  },
  {
   "cell_type": "code",
   "execution_count": null,
   "metadata": {},
   "outputs": [],
   "source": []
  }
 ],
 "metadata": {
  "kernelspec": {
   "display_name": "Python 3",
   "language": "python",
   "name": "python3"
  },
  "language_info": {
   "codemirror_mode": {
    "name": "ipython",
    "version": 3
   },
   "file_extension": ".py",
   "mimetype": "text/x-python",
   "name": "python",
   "nbconvert_exporter": "python",
   "pygments_lexer": "ipython3",
   "version": "3.8.3"
  }
 },
 "nbformat": 4,
 "nbformat_minor": 5
}
