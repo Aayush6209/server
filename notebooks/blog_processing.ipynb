{
 "cells": [
  {
   "cell_type": "code",
   "execution_count": 1,
   "metadata": {},
   "outputs": [],
   "source": [
    "import pandas as pd\n",
    "import numpy as np"
   ]
  },
  {
   "cell_type": "code",
   "execution_count": 2,
   "metadata": {},
   "outputs": [],
   "source": [
    "import spacy\n",
    "nlp = spacy.load(\"en_core_web_sm\")\n",
    "from collections import Counter\n",
    "from string import punctuation\n",
    "def get_hotwords(text):\n",
    "    result = []\n",
    "    pos_tag = ['PROPN', 'ADJ', 'NOUN']\n",
    "    doc = nlp(text.lower())\n",
    "    for token in doc:\n",
    "        if(token.text in nlp.Defaults.stop_words or token.text in punctuation):\n",
    "            continue\n",
    "        if(token.pos_ in pos_tag):\n",
    "            result.append(token.text)\n",
    "    return result"
   ]
  },
  {
   "cell_type": "code",
   "execution_count": 3,
   "metadata": {},
   "outputs": [
    {
     "data": {
      "text/html": [
       "<div>\n",
       "<style scoped>\n",
       "    .dataframe tbody tr th:only-of-type {\n",
       "        vertical-align: middle;\n",
       "    }\n",
       "\n",
       "    .dataframe tbody tr th {\n",
       "        vertical-align: top;\n",
       "    }\n",
       "\n",
       "    .dataframe thead th {\n",
       "        text-align: right;\n",
       "    }\n",
       "</style>\n",
       "<table border=\"1\" class=\"dataframe\">\n",
       "  <thead>\n",
       "    <tr style=\"text-align: right;\">\n",
       "      <th></th>\n",
       "      <th>heading</th>\n",
       "      <th>author</th>\n",
       "      <th>datetime</th>\n",
       "      <th>below_title_summary</th>\n",
       "      <th>img</th>\n",
       "      <th>description</th>\n",
       "      <th>img2</th>\n",
       "      <th>description2</th>\n",
       "    </tr>\n",
       "  </thead>\n",
       "  <tbody>\n",
       "    <tr>\n",
       "      <th>0</th>\n",
       "      <td>Kiara Advani’s smocked dress is all the rage i...</td>\n",
       "      <td>PRIYAM GOEL</td>\n",
       "      <td>SEP 16 2021</td>\n",
       "      <td>The ultimate blend of femininity and nonchalan...</td>\n",
       "      <td>https://media.vogue.in/wp-content/uploads/2021...</td>\n",
       "      <td>A smock sings femininity through and through. ...</td>\n",
       "      <td>https://media.vogue.in/wp-content/uploads/2021...</td>\n",
       "      <td>With monsoon being at its peak in Mumbai a rel...</td>\n",
       "    </tr>\n",
       "    <tr>\n",
       "      <th>1</th>\n",
       "      <td>Kiara Advani’s smocked dress is all the rage i...</td>\n",
       "      <td>PRIYAM GOEL</td>\n",
       "      <td>SEP 16 2021</td>\n",
       "      <td>The ultimate blend of femininity and nonchalan...</td>\n",
       "      <td>https://media.vogue.in/wp-content/uploads/2021...</td>\n",
       "      <td>A smock sings femininity through and through. ...</td>\n",
       "      <td>https://media.vogue.in/wp-content/uploads/2021...</td>\n",
       "      <td>With monsoon being at its peak in Mumbai a rel...</td>\n",
       "    </tr>\n",
       "  </tbody>\n",
       "</table>\n",
       "</div>"
      ],
      "text/plain": [
       "                                             heading       author  \\\n",
       "0  Kiara Advani’s smocked dress is all the rage i...  PRIYAM GOEL   \n",
       "1  Kiara Advani’s smocked dress is all the rage i...  PRIYAM GOEL   \n",
       "\n",
       "      datetime                                below_title_summary  \\\n",
       "0  SEP 16 2021  The ultimate blend of femininity and nonchalan...   \n",
       "1  SEP 16 2021  The ultimate blend of femininity and nonchalan...   \n",
       "\n",
       "                                                 img  \\\n",
       "0  https://media.vogue.in/wp-content/uploads/2021...   \n",
       "1  https://media.vogue.in/wp-content/uploads/2021...   \n",
       "\n",
       "                                         description  \\\n",
       "0  A smock sings femininity through and through. ...   \n",
       "1  A smock sings femininity through and through. ...   \n",
       "\n",
       "                                                img2  \\\n",
       "0  https://media.vogue.in/wp-content/uploads/2021...   \n",
       "1  https://media.vogue.in/wp-content/uploads/2021...   \n",
       "\n",
       "                                        description2  \n",
       "0  With monsoon being at its peak in Mumbai a rel...  \n",
       "1  With monsoon being at its peak in Mumbai a rel...  "
      ]
     },
     "execution_count": 3,
     "metadata": {},
     "output_type": "execute_result"
    }
   ],
   "source": [
    "df = pd.read_csv('../data/blog_data/example_vogue.csv')\n",
    "df"
   ]
  },
  {
   "cell_type": "code",
   "execution_count": 4,
   "metadata": {},
   "outputs": [
    {
     "data": {
      "text/plain": [
       "['Kiara Advani’s smocked dress is all the rage in sage PRIYAM GOEL The ultimate blend of femininity and nonchalance Kiara Advani’s maxi dress is proof that nothing beats a classic smock A smock sings femininity through and through. Infuse that in a broderie anglaise maxi and you’ve got yourself an eye-catching number. Kiara Advani is an expert at making fashion statements with her montage of relaxed uniforms and the actor did not disappoint with her recent choice of ensemble—she was spotted outside the office of Dharma Productions in a sage green maxi dress with a smocked bodice. Read to get the deets on her outfit. With monsoon being at its peak in Mumbai a relaxed breezy outfit aligns perfectly with the weather. If your aesthetic is unfussy eleganc a maxi dress like Advani’s would make a wonderful addition to your wardrobe. The actor’s dress with its smocked bodice balances sophistication and breeziness. What’s more her multi-tiered skirt with broderie anglaise detail adds a playful touch of romance. The ever-trendy smock lends your ensemble femininity without taking away breathing space (think painful corsets!). For a pared down off-duty look choose an earthy hue like Advani does here.Kiara Advani accessorized her outfit with a powder blue Gucci Diana tote bag featuring a metallic handle and orange straps. The pop of bright colour helped add a contrasting element to ana',\n",
       " 'Kiara Advani’s smocked dress is all the rage in sage PRIYAM GOEL The ultimate blend of femininity and nonchalance Kiara Advani’s maxi dress is proof that nothing beats a classic smock A smock sings femininity through and through. Infuse that in a broderie anglaise maxi and you’ve got yourself an eye-catching number. Kiara Advani is an expert at making fashion statements with her montage of relaxed uniforms and the actor did not disappoint with her recent choice of ensemble—she was spotted outside the office of Dharma Productions in a sage green maxi dress with a smocked bodice. Read to get the deets on her outfit. With monsoon being at its peak in Mumbai a relaxed breezy outfit aligns perfectly with the weather. If your aesthetic is unfussy eleganc a maxi dress like Advani’s would make a wonderful addition to your wardrobe. The actor’s dress with its smocked bodice balances sophistication and breeziness. What’s more her multi-tiered skirt with broderie anglaise detail adds a playful touch of romance. The ever-trendy smock lends your ensemble femininity without taking away breathing space (think painful corsets!). For a pared down off-duty look choose an earthy hue like Advani does here.Kiara Advani accessorized her outfit with a powder blue Gucci Diana tote bag featuring a metallic handle and orange straps. The pop of bright colour helped add a contrasting element to ana']"
      ]
     },
     "execution_count": 4,
     "metadata": {},
     "output_type": "execute_result"
    }
   ],
   "source": [
    "text= []\n",
    "for index, row in df.iterrows():\n",
    "    strin = row['heading'] + ' ' + row['author'] + ' ' + row['below_title_summary'] + ' ' + row['description'] + ' ' + row['description2']\n",
    "    text += [strin,]\n",
    "text"
   ]
  },
  {
   "cell_type": "code",
   "execution_count": 5,
   "metadata": {},
   "outputs": [
    {
     "name": "stdout",
     "output_type": "stream",
     "text": [
      "64\n",
      "64\n"
     ]
    }
   ],
   "source": [
    "import nltk\n",
    "result = []\n",
    "for x in text:\n",
    "    keywords = set(get_hotwords(x))\n",
    "    words = set(nltk.corpus.words.words())\n",
    "    f = lambda x: \" \".join(w for w in nltk.wordpunct_tokenize(x) if w.lower() in words)\n",
    "    res = set(map(f,keywords))\n",
    "    res = [x for x in res if x and len(x)>1]\n",
    "    print(len(res))\n",
    "    result += [res,]"
   ]
  },
  {
   "cell_type": "code",
   "execution_count": 8,
   "metadata": {},
   "outputs": [
    {
     "name": "stdout",
     "output_type": "stream",
     "text": [
      "70\n"
     ]
    },
    {
     "data": {
      "text/plain": [
       "['peak',\n",
       " 'soft',\n",
       " 'space',\n",
       " 'sage',\n",
       " 'wardrobe',\n",
       " 'proof',\n",
       " 'element',\n",
       " 'skirt',\n",
       " 'fashion',\n",
       " 'playful',\n",
       " 'choice',\n",
       " 'pop',\n",
       " 'bag',\n",
       " 'detail',\n",
       " 'addition',\n",
       " 'ensemble',\n",
       " 'weather',\n",
       " 'sophistication',\n",
       " 'eye',\n",
       " 'breezy',\n",
       " 'colour',\n",
       " 'tiered',\n",
       " 'similar',\n",
       " 'lightweight',\n",
       " 'outfit',\n",
       " 'blue',\n",
       " 'number',\n",
       " 'blend',\n",
       " 'classic',\n",
       " 'bodice',\n",
       " 'hue',\n",
       " 'office',\n",
       " 'goel',\n",
       " 'monsoon',\n",
       " 'powder',\n",
       " 'end',\n",
       " 'time',\n",
       " 'duty',\n",
       " 'relaxed',\n",
       " 'orange',\n",
       " 'breeziness',\n",
       " 'recent',\n",
       " 'painful',\n",
       " 'montage',\n",
       " 'dharma',\n",
       " 'romance',\n",
       " 'wonderful',\n",
       " 'dress',\n",
       " 'breathing',\n",
       " 'expert',\n",
       " 'actor',\n",
       " 'rage',\n",
       " 'tote',\n",
       " 'earthy',\n",
       " 'anglaise',\n",
       " 'bright',\n",
       " 'touch',\n",
       " 'romantic',\n",
       " 'metallic',\n",
       " 'nonchalance',\n",
       " 'green',\n",
       " 'smock',\n",
       " 'aesthetic',\n",
       " 'handle',\n",
       " 'look',\n",
       " 'summer',\n",
       " 'unfussy',\n",
       " 'ultimate',\n",
       " 'here',\n",
       " 'femininity']"
      ]
     },
     "execution_count": 8,
     "metadata": {},
     "output_type": "execute_result"
    }
   ],
   "source": [
    "import nltk\n",
    "words = set(nltk.corpus.words.words())\n",
    "\n",
    "f = lambda x: \" \".join(w for w in nltk.wordpunct_tokenize(x) if w.lower() in words)\n",
    "res = set(map(f,keywords))\n",
    "res = [x for x in res if x and len(x)>1]\n",
    "print(len(res))\n",
    "res"
   ]
  },
  {
   "cell_type": "code",
   "execution_count": 7,
   "metadata": {},
   "outputs": [
    {
     "name": "stderr",
     "output_type": "stream",
     "text": [
      "C:\\Users\\abhin\\anaconda3\\envs\\tf-gpu\\lib\\site-packages\\statsmodels\\tsa\\base\\tsa_model.py:162: ValueWarning: No frequency information was provided, so inferred frequency W-SUN will be used.\n",
      "  % freq, ValueWarning)\n",
      "C:\\Users\\abhin\\anaconda3\\envs\\tf-gpu\\lib\\site-packages\\statsmodels\\tsa\\base\\tsa_model.py:162: ValueWarning: No frequency information was provided, so inferred frequency W-SUN will be used.\n",
      "  % freq, ValueWarning)\n"
     ]
    },
    {
     "name": "stdout",
     "output_type": "stream",
     "text": [
      "-6.258193983142586\n"
     ]
    },
    {
     "name": "stderr",
     "output_type": "stream",
     "text": [
      "C:\\Users\\abhin\\anaconda3\\envs\\tf-gpu\\lib\\site-packages\\statsmodels\\tsa\\base\\tsa_model.py:162: ValueWarning: No frequency information was provided, so inferred frequency W-SUN will be used.\n",
      "  % freq, ValueWarning)\n",
      "C:\\Users\\abhin\\anaconda3\\envs\\tf-gpu\\lib\\site-packages\\statsmodels\\tsa\\base\\tsa_model.py:162: ValueWarning: No frequency information was provided, so inferred frequency W-SUN will be used.\n",
      "  % freq, ValueWarning)\n"
     ]
    },
    {
     "name": "stdout",
     "output_type": "stream",
     "text": [
      "1.8880841745994204\n"
     ]
    },
    {
     "name": "stderr",
     "output_type": "stream",
     "text": [
      "C:\\Users\\abhin\\anaconda3\\envs\\tf-gpu\\lib\\site-packages\\statsmodels\\tsa\\base\\tsa_model.py:162: ValueWarning: No frequency information was provided, so inferred frequency W-SUN will be used.\n",
      "  % freq, ValueWarning)\n",
      "C:\\Users\\abhin\\anaconda3\\envs\\tf-gpu\\lib\\site-packages\\statsmodels\\tsa\\base\\tsa_model.py:162: ValueWarning: No frequency information was provided, so inferred frequency W-SUN will be used.\n",
      "  % freq, ValueWarning)\n"
     ]
    },
    {
     "name": "stdout",
     "output_type": "stream",
     "text": [
      "-5.447626684649676\n"
     ]
    },
    {
     "name": "stderr",
     "output_type": "stream",
     "text": [
      "C:\\Users\\abhin\\anaconda3\\envs\\tf-gpu\\lib\\site-packages\\statsmodels\\tsa\\base\\tsa_model.py:162: ValueWarning: No frequency information was provided, so inferred frequency W-SUN will be used.\n",
      "  % freq, ValueWarning)\n",
      "C:\\Users\\abhin\\anaconda3\\envs\\tf-gpu\\lib\\site-packages\\statsmodels\\tsa\\base\\tsa_model.py:162: ValueWarning: No frequency information was provided, so inferred frequency W-SUN will be used.\n",
      "  % freq, ValueWarning)\n"
     ]
    },
    {
     "name": "stdout",
     "output_type": "stream",
     "text": [
      "15.504143245843519\n"
     ]
    },
    {
     "name": "stderr",
     "output_type": "stream",
     "text": [
      "C:\\Users\\abhin\\anaconda3\\envs\\tf-gpu\\lib\\site-packages\\statsmodels\\tsa\\base\\tsa_model.py:162: ValueWarning: No frequency information was provided, so inferred frequency W-SUN will be used.\n",
      "  % freq, ValueWarning)\n",
      "C:\\Users\\abhin\\anaconda3\\envs\\tf-gpu\\lib\\site-packages\\statsmodels\\tsa\\base\\tsa_model.py:162: ValueWarning: No frequency information was provided, so inferred frequency W-SUN will be used.\n",
      "  % freq, ValueWarning)\n"
     ]
    },
    {
     "name": "stdout",
     "output_type": "stream",
     "text": [
      "-6.258193983142586\n"
     ]
    },
    {
     "name": "stderr",
     "output_type": "stream",
     "text": [
      "C:\\Users\\abhin\\anaconda3\\envs\\tf-gpu\\lib\\site-packages\\statsmodels\\tsa\\base\\tsa_model.py:162: ValueWarning: No frequency information was provided, so inferred frequency W-SUN will be used.\n",
      "  % freq, ValueWarning)\n",
      "C:\\Users\\abhin\\anaconda3\\envs\\tf-gpu\\lib\\site-packages\\statsmodels\\tsa\\base\\tsa_model.py:162: ValueWarning: No frequency information was provided, so inferred frequency W-SUN will be used.\n",
      "  % freq, ValueWarning)\n"
     ]
    },
    {
     "name": "stdout",
     "output_type": "stream",
     "text": [
      "1.8880841745994204\n"
     ]
    },
    {
     "name": "stderr",
     "output_type": "stream",
     "text": [
      "C:\\Users\\abhin\\anaconda3\\envs\\tf-gpu\\lib\\site-packages\\statsmodels\\tsa\\base\\tsa_model.py:162: ValueWarning: No frequency information was provided, so inferred frequency W-SUN will be used.\n",
      "  % freq, ValueWarning)\n",
      "C:\\Users\\abhin\\anaconda3\\envs\\tf-gpu\\lib\\site-packages\\statsmodels\\tsa\\base\\tsa_model.py:162: ValueWarning: No frequency information was provided, so inferred frequency W-SUN will be used.\n",
      "  % freq, ValueWarning)\n"
     ]
    },
    {
     "name": "stdout",
     "output_type": "stream",
     "text": [
      "-5.447626684649676\n"
     ]
    },
    {
     "name": "stderr",
     "output_type": "stream",
     "text": [
      "C:\\Users\\abhin\\anaconda3\\envs\\tf-gpu\\lib\\site-packages\\statsmodels\\tsa\\base\\tsa_model.py:162: ValueWarning: No frequency information was provided, so inferred frequency W-SUN will be used.\n",
      "  % freq, ValueWarning)\n",
      "C:\\Users\\abhin\\anaconda3\\envs\\tf-gpu\\lib\\site-packages\\statsmodels\\tsa\\base\\tsa_model.py:162: ValueWarning: No frequency information was provided, so inferred frequency W-SUN will be used.\n",
      "  % freq, ValueWarning)\n"
     ]
    },
    {
     "name": "stdout",
     "output_type": "stream",
     "text": [
      "15.504143245843519\n"
     ]
    },
    {
     "data": {
      "text/plain": [
       "[15.504143245843519, 15.504143245843519]"
      ]
     },
     "execution_count": 7,
     "metadata": {},
     "output_type": "execute_result"
    }
   ],
   "source": [
    "from pytrends.request import TrendReq\n",
    "import pandas as pd\n",
    "import statsmodels.api as sm\n",
    "\n",
    "pytrends = TrendReq(hl='en-US', tz=360)\n",
    "datas = []\n",
    "\n",
    "for res in result:\n",
    "    data = pd.DataFrame()\n",
    "    res = list(res)\n",
    "    for x in range(0, 4):\n",
    "        kw_list = [res[x],]\n",
    "        pytrends.build_payload(kw_list, cat=0, timeframe='today 5-y', geo='IN', gprop='')\n",
    "        data[res[x]] = pytrends.interest_over_time()[res[x]]\n",
    "    changes = []\n",
    "    for word in data:\n",
    "        inp = data[word]\n",
    "        decomposition = sm.tsa.seasonal_decompose(inp, model='additive')\n",
    "        mod = sm.tsa.statespace.SARIMAX(inp,\n",
    "                                        order=(0, 0, 1),\n",
    "                                        seasonal_order=(1, 1, 1, 12),\n",
    "                                        enforce_stationarity=False,\n",
    "                                        enforce_invertibility=False)\n",
    "        results = mod.fit()\n",
    "        pred = results.get_prediction(start=pd.to_datetime('2019-10-20'), end=pd.to_datetime('2022-1-19'), dynamic=False)\n",
    "        end = pred.predicted_mean['2021-09-26']\n",
    "        start = pred.predicted_mean['2021-09-19']\n",
    "        change_per = (end-start)/start*100\n",
    "        print(change_per)\n",
    "        changes += [change_per,]\n",
    "    datas += [sorted(changes)[len(changes)-1],]\n",
    "datas"
   ]
  },
  {
   "cell_type": "code",
   "execution_count": 52,
   "metadata": {},
   "outputs": [
    {
     "name": "stderr",
     "output_type": "stream",
     "text": [
      "C:\\Users\\abhin\\anaconda3\\envs\\tf-gpu\\lib\\site-packages\\statsmodels\\tsa\\base\\tsa_model.py:162: ValueWarning: No frequency information was provided, so inferred frequency W-SUN will be used.\n",
      "  % freq, ValueWarning)\n",
      "C:\\Users\\abhin\\anaconda3\\envs\\tf-gpu\\lib\\site-packages\\statsmodels\\tsa\\base\\tsa_model.py:162: ValueWarning: No frequency information was provided, so inferred frequency W-SUN will be used.\n",
      "  % freq, ValueWarning)\n"
     ]
    },
    {
     "name": "stdout",
     "output_type": "stream",
     "text": [
      "-9.665688183229973\n"
     ]
    },
    {
     "name": "stderr",
     "output_type": "stream",
     "text": [
      "C:\\Users\\abhin\\anaconda3\\envs\\tf-gpu\\lib\\site-packages\\statsmodels\\tsa\\base\\tsa_model.py:162: ValueWarning: No frequency information was provided, so inferred frequency W-SUN will be used.\n",
      "  % freq, ValueWarning)\n",
      "C:\\Users\\abhin\\anaconda3\\envs\\tf-gpu\\lib\\site-packages\\statsmodels\\tsa\\base\\tsa_model.py:162: ValueWarning: No frequency information was provided, so inferred frequency W-SUN will be used.\n",
      "  % freq, ValueWarning)\n"
     ]
    },
    {
     "name": "stdout",
     "output_type": "stream",
     "text": [
      "-2.6650743853275713\n"
     ]
    },
    {
     "name": "stderr",
     "output_type": "stream",
     "text": [
      "C:\\Users\\abhin\\anaconda3\\envs\\tf-gpu\\lib\\site-packages\\statsmodels\\tsa\\base\\tsa_model.py:162: ValueWarning: No frequency information was provided, so inferred frequency W-SUN will be used.\n",
      "  % freq, ValueWarning)\n",
      "C:\\Users\\abhin\\anaconda3\\envs\\tf-gpu\\lib\\site-packages\\statsmodels\\tsa\\base\\tsa_model.py:162: ValueWarning: No frequency information was provided, so inferred frequency W-SUN will be used.\n",
      "  % freq, ValueWarning)\n"
     ]
    },
    {
     "name": "stdout",
     "output_type": "stream",
     "text": [
      "5.4066358874147635\n"
     ]
    },
    {
     "name": "stderr",
     "output_type": "stream",
     "text": [
      "C:\\Users\\abhin\\anaconda3\\envs\\tf-gpu\\lib\\site-packages\\statsmodels\\tsa\\base\\tsa_model.py:162: ValueWarning: No frequency information was provided, so inferred frequency W-SUN will be used.\n",
      "  % freq, ValueWarning)\n",
      "C:\\Users\\abhin\\anaconda3\\envs\\tf-gpu\\lib\\site-packages\\statsmodels\\tsa\\base\\tsa_model.py:162: ValueWarning: No frequency information was provided, so inferred frequency W-SUN will be used.\n",
      "  % freq, ValueWarning)\n"
     ]
    },
    {
     "name": "stdout",
     "output_type": "stream",
     "text": [
      "1.8880841745994204\n"
     ]
    },
    {
     "name": "stderr",
     "output_type": "stream",
     "text": [
      "C:\\Users\\abhin\\anaconda3\\envs\\tf-gpu\\lib\\site-packages\\statsmodels\\tsa\\base\\tsa_model.py:162: ValueWarning: No frequency information was provided, so inferred frequency W-SUN will be used.\n",
      "  % freq, ValueWarning)\n",
      "C:\\Users\\abhin\\anaconda3\\envs\\tf-gpu\\lib\\site-packages\\statsmodels\\tsa\\base\\tsa_model.py:162: ValueWarning: No frequency information was provided, so inferred frequency W-SUN will be used.\n",
      "  % freq, ValueWarning)\n"
     ]
    },
    {
     "name": "stdout",
     "output_type": "stream",
     "text": [
      "7.66265315038667\n"
     ]
    },
    {
     "name": "stderr",
     "output_type": "stream",
     "text": [
      "C:\\Users\\abhin\\anaconda3\\envs\\tf-gpu\\lib\\site-packages\\statsmodels\\tsa\\base\\tsa_model.py:162: ValueWarning: No frequency information was provided, so inferred frequency W-SUN will be used.\n",
      "  % freq, ValueWarning)\n",
      "C:\\Users\\abhin\\anaconda3\\envs\\tf-gpu\\lib\\site-packages\\statsmodels\\tsa\\base\\tsa_model.py:162: ValueWarning: No frequency information was provided, so inferred frequency W-SUN will be used.\n",
      "  % freq, ValueWarning)\n"
     ]
    },
    {
     "name": "stdout",
     "output_type": "stream",
     "text": [
      "-14.389034265050324\n"
     ]
    },
    {
     "name": "stderr",
     "output_type": "stream",
     "text": [
      "C:\\Users\\abhin\\anaconda3\\envs\\tf-gpu\\lib\\site-packages\\statsmodels\\tsa\\base\\tsa_model.py:162: ValueWarning: No frequency information was provided, so inferred frequency W-SUN will be used.\n",
      "  % freq, ValueWarning)\n",
      "C:\\Users\\abhin\\anaconda3\\envs\\tf-gpu\\lib\\site-packages\\statsmodels\\tsa\\base\\tsa_model.py:162: ValueWarning: No frequency information was provided, so inferred frequency W-SUN will be used.\n",
      "  % freq, ValueWarning)\n"
     ]
    },
    {
     "name": "stdout",
     "output_type": "stream",
     "text": [
      "-10.032406548934079\n"
     ]
    },
    {
     "name": "stderr",
     "output_type": "stream",
     "text": [
      "C:\\Users\\abhin\\anaconda3\\envs\\tf-gpu\\lib\\site-packages\\statsmodels\\tsa\\base\\tsa_model.py:162: ValueWarning: No frequency information was provided, so inferred frequency W-SUN will be used.\n",
      "  % freq, ValueWarning)\n",
      "C:\\Users\\abhin\\anaconda3\\envs\\tf-gpu\\lib\\site-packages\\statsmodels\\tsa\\base\\tsa_model.py:162: ValueWarning: No frequency information was provided, so inferred frequency W-SUN will be used.\n",
      "  % freq, ValueWarning)\n"
     ]
    },
    {
     "name": "stdout",
     "output_type": "stream",
     "text": [
      "-7.5117317077610215\n"
     ]
    },
    {
     "name": "stderr",
     "output_type": "stream",
     "text": [
      "C:\\Users\\abhin\\anaconda3\\envs\\tf-gpu\\lib\\site-packages\\statsmodels\\tsa\\base\\tsa_model.py:162: ValueWarning: No frequency information was provided, so inferred frequency W-SUN will be used.\n",
      "  % freq, ValueWarning)\n",
      "C:\\Users\\abhin\\anaconda3\\envs\\tf-gpu\\lib\\site-packages\\statsmodels\\tsa\\base\\tsa_model.py:162: ValueWarning: No frequency information was provided, so inferred frequency W-SUN will be used.\n",
      "  % freq, ValueWarning)\n"
     ]
    },
    {
     "name": "stdout",
     "output_type": "stream",
     "text": [
      "-10.665822150536949\n"
     ]
    },
    {
     "name": "stderr",
     "output_type": "stream",
     "text": [
      "C:\\Users\\abhin\\anaconda3\\envs\\tf-gpu\\lib\\site-packages\\statsmodels\\tsa\\base\\tsa_model.py:162: ValueWarning: No frequency information was provided, so inferred frequency W-SUN will be used.\n",
      "  % freq, ValueWarning)\n",
      "C:\\Users\\abhin\\anaconda3\\envs\\tf-gpu\\lib\\site-packages\\statsmodels\\tsa\\base\\tsa_model.py:162: ValueWarning: No frequency information was provided, so inferred frequency W-SUN will be used.\n",
      "  % freq, ValueWarning)\n"
     ]
    },
    {
     "name": "stdout",
     "output_type": "stream",
     "text": [
      "4.063199216414029\n"
     ]
    }
   ],
   "source": [
    "import statsmodels.api as sm\n",
    "changes = []\n",
    "for word in data:\n",
    "    inp = data[word]\n",
    "    decomposition = sm.tsa.seasonal_decompose(inp, model='additive')\n",
    "    mod = sm.tsa.statespace.SARIMAX(inp,\n",
    "                                    order=(0, 0, 1),\n",
    "                                    seasonal_order=(1, 1, 1, 12),\n",
    "                                    enforce_stationarity=False,\n",
    "                                    enforce_invertibility=False)\n",
    "    results = mod.fit()\n",
    "    pred = results.get_prediction(start=pd.to_datetime('2019-10-20'), end=pd.to_datetime('2022-1-19'), dynamic=False)\n",
    "    end = pred.predicted_mean['2021-09-26']\n",
    "    start = pred.predicted_mean['2021-09-19']\n",
    "    change_per = (end-start)/start*100\n",
    "    print(change_per)\n",
    "    changes += [change_per,]\n",
    "    sorted(changes)[len(changes)-1]"
   ]
  },
  {
   "cell_type": "code",
   "execution_count": 24,
   "metadata": {},
   "outputs": [
    {
     "data": {
      "text/html": [
       "<div>\n",
       "<style scoped>\n",
       "    .dataframe tbody tr th:only-of-type {\n",
       "        vertical-align: middle;\n",
       "    }\n",
       "\n",
       "    .dataframe tbody tr th {\n",
       "        vertical-align: top;\n",
       "    }\n",
       "\n",
       "    .dataframe thead th {\n",
       "        text-align: right;\n",
       "    }\n",
       "</style>\n",
       "<table border=\"1\" class=\"dataframe\">\n",
       "  <thead>\n",
       "    <tr style=\"text-align: right;\">\n",
       "      <th></th>\n",
       "      <th>heading</th>\n",
       "      <th>author</th>\n",
       "      <th>datetime</th>\n",
       "      <th>below_title_summary</th>\n",
       "      <th>img</th>\n",
       "      <th>description</th>\n",
       "      <th>img2</th>\n",
       "      <th>description2</th>\n",
       "    </tr>\n",
       "  </thead>\n",
       "  <tbody>\n",
       "    <tr>\n",
       "      <th>0</th>\n",
       "      <td>Kiara Advani’s smocked dress is all the rage i...</td>\n",
       "      <td>PRIYAM GOEL</td>\n",
       "      <td>SEP 16 2021</td>\n",
       "      <td>The ultimate blend of femininity and nonchalan...</td>\n",
       "      <td>https://media.vogue.in/wp-content/uploads/2021...</td>\n",
       "      <td>A smock sings femininity through and through. ...</td>\n",
       "      <td>https://media.vogue.in/wp-content/uploads/2021...</td>\n",
       "      <td>With monsoon being at its peak in Mumbai a rel...</td>\n",
       "    </tr>\n",
       "    <tr>\n",
       "      <th>1</th>\n",
       "      <td>Kiara Advani’s smocked dress is all the rage i...</td>\n",
       "      <td>PRIYAM GOEL</td>\n",
       "      <td>SEP 16 2021</td>\n",
       "      <td>The ultimate blend of femininity and nonchalan...</td>\n",
       "      <td>https://media.vogue.in/wp-content/uploads/2021...</td>\n",
       "      <td>A smock sings femininity through and through. ...</td>\n",
       "      <td>https://media.vogue.in/wp-content/uploads/2021...</td>\n",
       "      <td>With monsoon being at its peak in Mumbai a rel...</td>\n",
       "    </tr>\n",
       "  </tbody>\n",
       "</table>\n",
       "</div>"
      ],
      "text/plain": [
       "                                             heading       author  \\\n",
       "0  Kiara Advani’s smocked dress is all the rage i...  PRIYAM GOEL   \n",
       "1  Kiara Advani’s smocked dress is all the rage i...  PRIYAM GOEL   \n",
       "\n",
       "      datetime                                below_title_summary  \\\n",
       "0  SEP 16 2021  The ultimate blend of femininity and nonchalan...   \n",
       "1  SEP 16 2021  The ultimate blend of femininity and nonchalan...   \n",
       "\n",
       "                                                 img  \\\n",
       "0  https://media.vogue.in/wp-content/uploads/2021...   \n",
       "1  https://media.vogue.in/wp-content/uploads/2021...   \n",
       "\n",
       "                                         description  \\\n",
       "0  A smock sings femininity through and through. ...   \n",
       "1  A smock sings femininity through and through. ...   \n",
       "\n",
       "                                                img2  \\\n",
       "0  https://media.vogue.in/wp-content/uploads/2021...   \n",
       "1  https://media.vogue.in/wp-content/uploads/2021...   \n",
       "\n",
       "                                        description2  \n",
       "0  With monsoon being at its peak in Mumbai a rel...  \n",
       "1  With monsoon being at its peak in Mumbai a rel...  "
      ]
     },
     "execution_count": 24,
     "metadata": {},
     "output_type": "execute_result"
    }
   ],
   "source": [
    "df = df.transpose()\n",
    "df"
   ]
  },
  {
   "cell_type": "code",
   "execution_count": 27,
   "metadata": {},
   "outputs": [
    {
     "data": {
      "text/html": [
       "<div>\n",
       "<style scoped>\n",
       "    .dataframe tbody tr th:only-of-type {\n",
       "        vertical-align: middle;\n",
       "    }\n",
       "\n",
       "    .dataframe tbody tr th {\n",
       "        vertical-align: top;\n",
       "    }\n",
       "\n",
       "    .dataframe thead th {\n",
       "        text-align: right;\n",
       "    }\n",
       "</style>\n",
       "<table border=\"1\" class=\"dataframe\">\n",
       "  <thead>\n",
       "    <tr style=\"text-align: right;\">\n",
       "      <th></th>\n",
       "      <th>heading</th>\n",
       "      <th>author</th>\n",
       "      <th>datetime</th>\n",
       "      <th>below_title_summary</th>\n",
       "      <th>img</th>\n",
       "      <th>description</th>\n",
       "      <th>img2</th>\n",
       "      <th>description2</th>\n",
       "    </tr>\n",
       "  </thead>\n",
       "  <tbody>\n",
       "    <tr>\n",
       "      <th>0</th>\n",
       "      <td>Kiara Advani’s smocked dress is all the rage i...</td>\n",
       "      <td>PRIYAM GOEL</td>\n",
       "      <td>SEP 16 2021</td>\n",
       "      <td>The ultimate blend of femininity and nonchalan...</td>\n",
       "      <td>https://media.vogue.in/wp-content/uploads/2021...</td>\n",
       "      <td>A smock sings femininity through and through. ...</td>\n",
       "      <td>https://media.vogue.in/wp-content/uploads/2021...</td>\n",
       "      <td>With monsoon being at its peak in Mumbai a rel...</td>\n",
       "    </tr>\n",
       "    <tr>\n",
       "      <th>1</th>\n",
       "      <td>Kiara Advani’s smocked dress is all the rage i...</td>\n",
       "      <td>PRIYAM GOEL</td>\n",
       "      <td>SEP 16 2021</td>\n",
       "      <td>The ultimate blend of femininity and nonchalan...</td>\n",
       "      <td>https://media.vogue.in/wp-content/uploads/2021...</td>\n",
       "      <td>A smock sings femininity through and through. ...</td>\n",
       "      <td>https://media.vogue.in/wp-content/uploads/2021...</td>\n",
       "      <td>With monsoon being at its peak in Mumbai a rel...</td>\n",
       "    </tr>\n",
       "  </tbody>\n",
       "</table>\n",
       "</div>"
      ],
      "text/plain": [
       "                                             heading       author  \\\n",
       "0  Kiara Advani’s smocked dress is all the rage i...  PRIYAM GOEL   \n",
       "1  Kiara Advani’s smocked dress is all the rage i...  PRIYAM GOEL   \n",
       "\n",
       "      datetime                                below_title_summary  \\\n",
       "0  SEP 16 2021  The ultimate blend of femininity and nonchalan...   \n",
       "1  SEP 16 2021  The ultimate blend of femininity and nonchalan...   \n",
       "\n",
       "                                                 img  \\\n",
       "0  https://media.vogue.in/wp-content/uploads/2021...   \n",
       "1  https://media.vogue.in/wp-content/uploads/2021...   \n",
       "\n",
       "                                         description  \\\n",
       "0  A smock sings femininity through and through. ...   \n",
       "1  A smock sings femininity through and through. ...   \n",
       "\n",
       "                                                img2  \\\n",
       "0  https://media.vogue.in/wp-content/uploads/2021...   \n",
       "1  https://media.vogue.in/wp-content/uploads/2021...   \n",
       "\n",
       "                                        description2  \n",
       "0  With monsoon being at its peak in Mumbai a rel...  \n",
       "1  With monsoon being at its peak in Mumbai a rel...  "
      ]
     },
     "execution_count": 27,
     "metadata": {},
     "output_type": "execute_result"
    }
   ],
   "source": [
    "res_dct = {i: datas[i] for i in range(0, len(datas))}\n",
    "res_dct = dict(sorted(res_dct.items(), key=lambda item: item[1]))\n",
    "k = 0\n",
    "pd_result = pd.DataFrame(columns=df.columns)\n",
    "for key in res_dct:\n",
    "    pd_result.loc[df.index[key]] = df.iloc[key]\n",
    "pd_result"
   ]
  },
  {
   "cell_type": "code",
   "execution_count": 56,
   "metadata": {},
   "outputs": [
    {
     "data": {
      "text/plain": [
       "7.66265315038667"
      ]
     },
     "execution_count": 56,
     "metadata": {},
     "output_type": "execute_result"
    }
   ],
   "source": [
    "sorted(changes)[len(changes)-1]"
   ]
  },
  {
   "cell_type": "code",
   "execution_count": 23,
   "metadata": {},
   "outputs": [
    {
     "name": "stdout",
     "output_type": "stream",
     "text": [
      "Examples of parameter for SARIMA...\n",
      "SARIMAX: (0, 0, 1) x (0, 0, 1, 12)\n",
      "SARIMAX: (0, 0, 1) x (0, 1, 0, 12)\n",
      "SARIMAX: (0, 1, 0) x (0, 1, 1, 12)\n",
      "SARIMAX: (0, 1, 0) x (1, 0, 0, 12)\n"
     ]
    }
   ],
   "source": [
    "decomposition = sm.tsa.seasonal_decompose(peak, model='additive')\n",
    "import itertools\n",
    "p = d = q = range(0, 2)\n",
    "pdq = list(itertools.product(p, d, q))\n",
    "seasonal_pdq = [(x[0], x[1], x[2], 12) for x in list(itertools.product(p, d, q))]\n",
    "print('Examples of parameter for SARIMA...')\n",
    "print('SARIMAX: {} x {}'.format(pdq[1], seasonal_pdq[1]))\n",
    "print('SARIMAX: {} x {}'.format(pdq[1], seasonal_pdq[2]))\n",
    "print('SARIMAX: {} x {}'.format(pdq[2], seasonal_pdq[3]))\n",
    "print('SARIMAX: {} x {}'.format(pdq[2], seasonal_pdq[4]))"
   ]
  },
  {
   "cell_type": "code",
   "execution_count": 25,
   "metadata": {},
   "outputs": [
    {
     "name": "stderr",
     "output_type": "stream",
     "text": [
      "C:\\Users\\abhin\\anaconda3\\envs\\tf-gpu\\lib\\site-packages\\statsmodels\\tsa\\base\\tsa_model.py:162: ValueWarning: No frequency information was provided, so inferred frequency W-SUN will be used.\n",
      "  % freq, ValueWarning)\n",
      "C:\\Users\\abhin\\anaconda3\\envs\\tf-gpu\\lib\\site-packages\\statsmodels\\tsa\\base\\tsa_model.py:162: ValueWarning: No frequency information was provided, so inferred frequency W-SUN will be used.\n",
      "  % freq, ValueWarning)\n",
      "C:\\Users\\abhin\\anaconda3\\envs\\tf-gpu\\lib\\site-packages\\statsmodels\\tsa\\base\\tsa_model.py:162: ValueWarning: No frequency information was provided, so inferred frequency W-SUN will be used.\n",
      "  % freq, ValueWarning)\n",
      "C:\\Users\\abhin\\anaconda3\\envs\\tf-gpu\\lib\\site-packages\\statsmodels\\tsa\\base\\tsa_model.py:162: ValueWarning: No frequency information was provided, so inferred frequency W-SUN will be used.\n",
      "  % freq, ValueWarning)\n"
     ]
    },
    {
     "name": "stdout",
     "output_type": "stream",
     "text": [
      "ARIMA(0, 0, 0)x(0, 0, 0, 12)12 - AIC:2702.2865400514884\n",
      "ARIMA(0, 0, 0)x(0, 0, 1, 12)12 - AIC:2329.0867054566943\n",
      "ARIMA(0, 0, 0)x(0, 1, 0, 12)12 - AIC:1827.033982554205\n"
     ]
    },
    {
     "name": "stderr",
     "output_type": "stream",
     "text": [
      "C:\\Users\\abhin\\anaconda3\\envs\\tf-gpu\\lib\\site-packages\\statsmodels\\tsa\\base\\tsa_model.py:162: ValueWarning: No frequency information was provided, so inferred frequency W-SUN will be used.\n",
      "  % freq, ValueWarning)\n",
      "C:\\Users\\abhin\\anaconda3\\envs\\tf-gpu\\lib\\site-packages\\statsmodels\\tsa\\base\\tsa_model.py:162: ValueWarning: No frequency information was provided, so inferred frequency W-SUN will be used.\n",
      "  % freq, ValueWarning)\n",
      "C:\\Users\\abhin\\anaconda3\\envs\\tf-gpu\\lib\\site-packages\\statsmodels\\tsa\\base\\tsa_model.py:162: ValueWarning: No frequency information was provided, so inferred frequency W-SUN will be used.\n",
      "  % freq, ValueWarning)\n",
      "C:\\Users\\abhin\\anaconda3\\envs\\tf-gpu\\lib\\site-packages\\statsmodels\\tsa\\base\\tsa_model.py:162: ValueWarning: No frequency information was provided, so inferred frequency W-SUN will be used.\n",
      "  % freq, ValueWarning)\n"
     ]
    },
    {
     "name": "stdout",
     "output_type": "stream",
     "text": [
      "ARIMA(0, 0, 0)x(0, 1, 1, 12)12 - AIC:1702.5589020247294\n",
      "ARIMA(0, 0, 0)x(1, 0, 0, 12)12 - AIC:1835.0316052673502\n"
     ]
    },
    {
     "name": "stderr",
     "output_type": "stream",
     "text": [
      "C:\\Users\\abhin\\anaconda3\\envs\\tf-gpu\\lib\\site-packages\\statsmodels\\tsa\\base\\tsa_model.py:162: ValueWarning: No frequency information was provided, so inferred frequency W-SUN will be used.\n",
      "  % freq, ValueWarning)\n",
      "C:\\Users\\abhin\\anaconda3\\envs\\tf-gpu\\lib\\site-packages\\statsmodels\\tsa\\base\\tsa_model.py:162: ValueWarning: No frequency information was provided, so inferred frequency W-SUN will be used.\n",
      "  % freq, ValueWarning)\n",
      "C:\\Users\\abhin\\anaconda3\\envs\\tf-gpu\\lib\\site-packages\\statsmodels\\tsa\\base\\tsa_model.py:162: ValueWarning: No frequency information was provided, so inferred frequency W-SUN will be used.\n",
      "  % freq, ValueWarning)\n",
      "C:\\Users\\abhin\\anaconda3\\envs\\tf-gpu\\lib\\site-packages\\statsmodels\\tsa\\base\\tsa_model.py:162: ValueWarning: No frequency information was provided, so inferred frequency W-SUN will be used.\n",
      "  % freq, ValueWarning)\n"
     ]
    },
    {
     "name": "stdout",
     "output_type": "stream",
     "text": [
      "ARIMA(0, 0, 0)x(1, 0, 1, 12)12 - AIC:1751.9853494001538\n",
      "ARIMA(0, 0, 0)x(1, 1, 0, 12)12 - AIC:1721.6227614376648\n"
     ]
    },
    {
     "name": "stderr",
     "output_type": "stream",
     "text": [
      "C:\\Users\\abhin\\anaconda3\\envs\\tf-gpu\\lib\\site-packages\\statsmodels\\tsa\\base\\tsa_model.py:162: ValueWarning: No frequency information was provided, so inferred frequency W-SUN will be used.\n",
      "  % freq, ValueWarning)\n",
      "C:\\Users\\abhin\\anaconda3\\envs\\tf-gpu\\lib\\site-packages\\statsmodels\\tsa\\base\\tsa_model.py:162: ValueWarning: No frequency information was provided, so inferred frequency W-SUN will be used.\n",
      "  % freq, ValueWarning)\n",
      "C:\\Users\\abhin\\anaconda3\\envs\\tf-gpu\\lib\\site-packages\\statsmodels\\tsa\\base\\tsa_model.py:162: ValueWarning: No frequency information was provided, so inferred frequency W-SUN will be used.\n",
      "  % freq, ValueWarning)\n",
      "C:\\Users\\abhin\\anaconda3\\envs\\tf-gpu\\lib\\site-packages\\statsmodels\\tsa\\base\\tsa_model.py:162: ValueWarning: No frequency information was provided, so inferred frequency W-SUN will be used.\n",
      "  % freq, ValueWarning)\n"
     ]
    },
    {
     "name": "stdout",
     "output_type": "stream",
     "text": [
      "ARIMA(0, 0, 0)x(1, 1, 1, 12)12 - AIC:1705.211243419919\n",
      "ARIMA(0, 0, 1)x(0, 0, 0, 12)12 - AIC:2401.6826553017827\n"
     ]
    },
    {
     "name": "stderr",
     "output_type": "stream",
     "text": [
      "C:\\Users\\abhin\\anaconda3\\envs\\tf-gpu\\lib\\site-packages\\statsmodels\\tsa\\base\\tsa_model.py:162: ValueWarning: No frequency information was provided, so inferred frequency W-SUN will be used.\n",
      "  % freq, ValueWarning)\n",
      "C:\\Users\\abhin\\anaconda3\\envs\\tf-gpu\\lib\\site-packages\\statsmodels\\tsa\\base\\tsa_model.py:162: ValueWarning: No frequency information was provided, so inferred frequency W-SUN will be used.\n",
      "  % freq, ValueWarning)\n",
      "C:\\Users\\abhin\\anaconda3\\envs\\tf-gpu\\lib\\site-packages\\statsmodels\\tsa\\base\\tsa_model.py:162: ValueWarning: No frequency information was provided, so inferred frequency W-SUN will be used.\n",
      "  % freq, ValueWarning)\n",
      "C:\\Users\\abhin\\anaconda3\\envs\\tf-gpu\\lib\\site-packages\\statsmodels\\tsa\\base\\tsa_model.py:162: ValueWarning: No frequency information was provided, so inferred frequency W-SUN will be used.\n",
      "  % freq, ValueWarning)\n"
     ]
    },
    {
     "name": "stdout",
     "output_type": "stream",
     "text": [
      "ARIMA(0, 0, 1)x(0, 0, 1, 12)12 - AIC:2118.7635032610006\n",
      "ARIMA(0, 0, 1)x(0, 1, 0, 12)12 - AIC:1754.8559636991579\n"
     ]
    },
    {
     "name": "stderr",
     "output_type": "stream",
     "text": [
      "C:\\Users\\abhin\\anaconda3\\envs\\tf-gpu\\lib\\site-packages\\statsmodels\\tsa\\base\\tsa_model.py:162: ValueWarning: No frequency information was provided, so inferred frequency W-SUN will be used.\n",
      "  % freq, ValueWarning)\n",
      "C:\\Users\\abhin\\anaconda3\\envs\\tf-gpu\\lib\\site-packages\\statsmodels\\tsa\\base\\tsa_model.py:162: ValueWarning: No frequency information was provided, so inferred frequency W-SUN will be used.\n",
      "  % freq, ValueWarning)\n",
      "C:\\Users\\abhin\\anaconda3\\envs\\tf-gpu\\lib\\site-packages\\statsmodels\\tsa\\base\\tsa_model.py:162: ValueWarning: No frequency information was provided, so inferred frequency W-SUN will be used.\n",
      "  % freq, ValueWarning)\n",
      "C:\\Users\\abhin\\anaconda3\\envs\\tf-gpu\\lib\\site-packages\\statsmodels\\tsa\\base\\tsa_model.py:162: ValueWarning: No frequency information was provided, so inferred frequency W-SUN will be used.\n",
      "  % freq, ValueWarning)\n"
     ]
    },
    {
     "name": "stdout",
     "output_type": "stream",
     "text": [
      "ARIMA(0, 0, 1)x(0, 1, 1, 12)12 - AIC:1615.8561174631618\n",
      "ARIMA(0, 0, 1)x(1, 0, 0, 12)12 - AIC:1770.3479055427867"
     ]
    },
    {
     "name": "stderr",
     "output_type": "stream",
     "text": [
      "C:\\Users\\abhin\\anaconda3\\envs\\tf-gpu\\lib\\site-packages\\statsmodels\\tsa\\base\\tsa_model.py:162: ValueWarning: No frequency information was provided, so inferred frequency W-SUN will be used.\n",
      "  % freq, ValueWarning)\n",
      "C:\\Users\\abhin\\anaconda3\\envs\\tf-gpu\\lib\\site-packages\\statsmodels\\tsa\\base\\tsa_model.py:162: ValueWarning: No frequency information was provided, so inferred frequency W-SUN will be used.\n",
      "  % freq, ValueWarning)\n"
     ]
    },
    {
     "name": "stdout",
     "output_type": "stream",
     "text": [
      "\n",
      "ARIMA(0, 0, 1)x(1, 0, 1, 12)12 - AIC:1674.0360871724934\n",
      "ARIMA(0, 0, 1)x(1, 1, 0, 12)12 - AIC:1645.9238538126247\n"
     ]
    },
    {
     "name": "stderr",
     "output_type": "stream",
     "text": [
      "C:\\Users\\abhin\\anaconda3\\envs\\tf-gpu\\lib\\site-packages\\statsmodels\\tsa\\base\\tsa_model.py:162: ValueWarning: No frequency information was provided, so inferred frequency W-SUN will be used.\n",
      "  % freq, ValueWarning)\n",
      "C:\\Users\\abhin\\anaconda3\\envs\\tf-gpu\\lib\\site-packages\\statsmodels\\tsa\\base\\tsa_model.py:162: ValueWarning: No frequency information was provided, so inferred frequency W-SUN will be used.\n",
      "  % freq, ValueWarning)\n",
      "C:\\Users\\abhin\\anaconda3\\envs\\tf-gpu\\lib\\site-packages\\statsmodels\\tsa\\base\\tsa_model.py:162: ValueWarning: No frequency information was provided, so inferred frequency W-SUN will be used.\n",
      "  % freq, ValueWarning)\n",
      "C:\\Users\\abhin\\anaconda3\\envs\\tf-gpu\\lib\\site-packages\\statsmodels\\tsa\\base\\tsa_model.py:162: ValueWarning: No frequency information was provided, so inferred frequency W-SUN will be used.\n",
      "  % freq, ValueWarning)\n",
      "C:\\Users\\abhin\\anaconda3\\envs\\tf-gpu\\lib\\site-packages\\statsmodels\\tsa\\base\\tsa_model.py:162: ValueWarning: No frequency information was provided, so inferred frequency W-SUN will be used.\n",
      "  % freq, ValueWarning)\n",
      "C:\\Users\\abhin\\anaconda3\\envs\\tf-gpu\\lib\\site-packages\\statsmodels\\tsa\\base\\tsa_model.py:162: ValueWarning: No frequency information was provided, so inferred frequency W-SUN will be used.\n",
      "  % freq, ValueWarning)\n"
     ]
    },
    {
     "name": "stdout",
     "output_type": "stream",
     "text": [
      "ARIMA(0, 0, 1)x(1, 1, 1, 12)12 - AIC:1617.8338855171387\n",
      "ARIMA(0, 1, 0)x(0, 0, 0, 12)12 - AIC:1716.22739159878\n",
      "ARIMA(0, 1, 0)x(0, 0, 1, 12)12 - AIC:1636.438418268935\n",
      "ARIMA(0, 1, 0)x(0, 1, 0, 12)12 - AIC:1800.396355509555"
     ]
    },
    {
     "name": "stderr",
     "output_type": "stream",
     "text": [
      "C:\\Users\\abhin\\anaconda3\\envs\\tf-gpu\\lib\\site-packages\\statsmodels\\tsa\\base\\tsa_model.py:162: ValueWarning: No frequency information was provided, so inferred frequency W-SUN will be used.\n",
      "  % freq, ValueWarning)\n",
      "C:\\Users\\abhin\\anaconda3\\envs\\tf-gpu\\lib\\site-packages\\statsmodels\\tsa\\base\\tsa_model.py:162: ValueWarning: No frequency information was provided, so inferred frequency W-SUN will be used.\n",
      "  % freq, ValueWarning)\n",
      "C:\\Users\\abhin\\anaconda3\\envs\\tf-gpu\\lib\\site-packages\\statsmodels\\tsa\\base\\tsa_model.py:162: ValueWarning: No frequency information was provided, so inferred frequency W-SUN will be used.\n",
      "  % freq, ValueWarning)\n",
      "C:\\Users\\abhin\\anaconda3\\envs\\tf-gpu\\lib\\site-packages\\statsmodels\\tsa\\base\\tsa_model.py:162: ValueWarning: No frequency information was provided, so inferred frequency W-SUN will be used.\n",
      "  % freq, ValueWarning)\n",
      "C:\\Users\\abhin\\anaconda3\\envs\\tf-gpu\\lib\\site-packages\\statsmodels\\tsa\\base\\tsa_model.py:162: ValueWarning: No frequency information was provided, so inferred frequency W-SUN will be used.\n",
      "  % freq, ValueWarning)\n",
      "C:\\Users\\abhin\\anaconda3\\envs\\tf-gpu\\lib\\site-packages\\statsmodels\\tsa\\base\\tsa_model.py:162: ValueWarning: No frequency information was provided, so inferred frequency W-SUN will be used.\n",
      "  % freq, ValueWarning)\n"
     ]
    },
    {
     "name": "stdout",
     "output_type": "stream",
     "text": [
      "\n"
     ]
    },
    {
     "name": "stderr",
     "output_type": "stream",
     "text": [
      "C:\\Users\\abhin\\anaconda3\\envs\\tf-gpu\\lib\\site-packages\\statsmodels\\tsa\\base\\tsa_model.py:162: ValueWarning: No frequency information was provided, so inferred frequency W-SUN will be used.\n",
      "  % freq, ValueWarning)\n",
      "C:\\Users\\abhin\\anaconda3\\envs\\tf-gpu\\lib\\site-packages\\statsmodels\\tsa\\base\\tsa_model.py:162: ValueWarning: No frequency information was provided, so inferred frequency W-SUN will be used.\n",
      "  % freq, ValueWarning)\n"
     ]
    },
    {
     "name": "stdout",
     "output_type": "stream",
     "text": [
      "ARIMA(0, 1, 0)x(0, 1, 1, 12)12 - AIC:1591.5574321047209\n",
      "ARIMA(0, 1, 0)x(1, 0, 0, 12)12 - AIC:1642.8923712647863\n"
     ]
    },
    {
     "name": "stderr",
     "output_type": "stream",
     "text": [
      "C:\\Users\\abhin\\anaconda3\\envs\\tf-gpu\\lib\\site-packages\\statsmodels\\tsa\\base\\tsa_model.py:162: ValueWarning: No frequency information was provided, so inferred frequency W-SUN will be used.\n",
      "  % freq, ValueWarning)\n",
      "C:\\Users\\abhin\\anaconda3\\envs\\tf-gpu\\lib\\site-packages\\statsmodels\\tsa\\base\\tsa_model.py:162: ValueWarning: No frequency information was provided, so inferred frequency W-SUN will be used.\n",
      "  % freq, ValueWarning)\n",
      "C:\\Users\\abhin\\anaconda3\\envs\\tf-gpu\\lib\\site-packages\\statsmodels\\tsa\\base\\tsa_model.py:162: ValueWarning: No frequency information was provided, so inferred frequency W-SUN will be used.\n",
      "  % freq, ValueWarning)\n",
      "C:\\Users\\abhin\\anaconda3\\envs\\tf-gpu\\lib\\site-packages\\statsmodels\\tsa\\base\\tsa_model.py:162: ValueWarning: No frequency information was provided, so inferred frequency W-SUN will be used.\n",
      "  % freq, ValueWarning)\n"
     ]
    },
    {
     "name": "stdout",
     "output_type": "stream",
     "text": [
      "ARIMA(0, 1, 0)x(1, 0, 1, 12)12 - AIC:1638.4384128811494\n",
      "ARIMA(0, 1, 0)x(1, 1, 0, 12)12 - AIC:1661.8026412502286\n"
     ]
    },
    {
     "name": "stderr",
     "output_type": "stream",
     "text": [
      "C:\\Users\\abhin\\anaconda3\\envs\\tf-gpu\\lib\\site-packages\\statsmodels\\tsa\\base\\tsa_model.py:162: ValueWarning: No frequency information was provided, so inferred frequency W-SUN will be used.\n",
      "  % freq, ValueWarning)\n",
      "C:\\Users\\abhin\\anaconda3\\envs\\tf-gpu\\lib\\site-packages\\statsmodels\\tsa\\base\\tsa_model.py:162: ValueWarning: No frequency information was provided, so inferred frequency W-SUN will be used.\n",
      "  % freq, ValueWarning)\n",
      "C:\\Users\\abhin\\anaconda3\\envs\\tf-gpu\\lib\\site-packages\\statsmodels\\tsa\\base\\tsa_model.py:162: ValueWarning: No frequency information was provided, so inferred frequency W-SUN will be used.\n",
      "  % freq, ValueWarning)\n",
      "C:\\Users\\abhin\\anaconda3\\envs\\tf-gpu\\lib\\site-packages\\statsmodels\\tsa\\base\\tsa_model.py:162: ValueWarning: No frequency information was provided, so inferred frequency W-SUN will be used.\n",
      "  % freq, ValueWarning)\n"
     ]
    },
    {
     "name": "stdout",
     "output_type": "stream",
     "text": [
      "ARIMA(0, 1, 0)x(1, 1, 1, 12)12 - AIC:1593.5592260079918\n",
      "ARIMA(0, 1, 1)x(0, 0, 0, 12)12 - AIC:1674.0591869126954\n",
      "ARIMA(0, 1, 1)x(0, 0, 1, 12)12 - AIC:1600.1075190689098"
     ]
    },
    {
     "name": "stderr",
     "output_type": "stream",
     "text": [
      "C:\\Users\\abhin\\anaconda3\\envs\\tf-gpu\\lib\\site-packages\\statsmodels\\tsa\\base\\tsa_model.py:162: ValueWarning: No frequency information was provided, so inferred frequency W-SUN will be used.\n",
      "  % freq, ValueWarning)\n",
      "C:\\Users\\abhin\\anaconda3\\envs\\tf-gpu\\lib\\site-packages\\statsmodels\\tsa\\base\\tsa_model.py:162: ValueWarning: No frequency information was provided, so inferred frequency W-SUN will be used.\n",
      "  % freq, ValueWarning)\n",
      "C:\\Users\\abhin\\anaconda3\\envs\\tf-gpu\\lib\\site-packages\\statsmodels\\tsa\\base\\tsa_model.py:162: ValueWarning: No frequency information was provided, so inferred frequency W-SUN will be used.\n",
      "  % freq, ValueWarning)\n",
      "C:\\Users\\abhin\\anaconda3\\envs\\tf-gpu\\lib\\site-packages\\statsmodels\\tsa\\base\\tsa_model.py:162: ValueWarning: No frequency information was provided, so inferred frequency W-SUN will be used.\n",
      "  % freq, ValueWarning)\n"
     ]
    },
    {
     "name": "stdout",
     "output_type": "stream",
     "text": [
      "\n",
      "ARIMA(0, 1, 1)x(0, 1, 0, 12)12 - AIC:1770.140800352301\n"
     ]
    },
    {
     "name": "stderr",
     "output_type": "stream",
     "text": [
      "C:\\Users\\abhin\\anaconda3\\envs\\tf-gpu\\lib\\site-packages\\statsmodels\\tsa\\base\\tsa_model.py:162: ValueWarning: No frequency information was provided, so inferred frequency W-SUN will be used.\n",
      "  % freq, ValueWarning)\n",
      "C:\\Users\\abhin\\anaconda3\\envs\\tf-gpu\\lib\\site-packages\\statsmodels\\tsa\\base\\tsa_model.py:162: ValueWarning: No frequency information was provided, so inferred frequency W-SUN will be used.\n",
      "  % freq, ValueWarning)\n",
      "C:\\Users\\abhin\\anaconda3\\envs\\tf-gpu\\lib\\site-packages\\statsmodels\\tsa\\base\\tsa_model.py:162: ValueWarning: No frequency information was provided, so inferred frequency W-SUN will be used.\n",
      "  % freq, ValueWarning)\n",
      "C:\\Users\\abhin\\anaconda3\\envs\\tf-gpu\\lib\\site-packages\\statsmodels\\tsa\\base\\tsa_model.py:162: ValueWarning: No frequency information was provided, so inferred frequency W-SUN will be used.\n",
      "  % freq, ValueWarning)\n"
     ]
    },
    {
     "name": "stdout",
     "output_type": "stream",
     "text": [
      "ARIMA(0, 1, 1)x(0, 1, 1, 12)12 - AIC:1556.4696920030137\n",
      "ARIMA(0, 1, 1)x(1, 0, 0, 12)12 - AIC:1612.5777953025429\n"
     ]
    },
    {
     "name": "stderr",
     "output_type": "stream",
     "text": [
      "C:\\Users\\abhin\\anaconda3\\envs\\tf-gpu\\lib\\site-packages\\statsmodels\\tsa\\base\\tsa_model.py:162: ValueWarning: No frequency information was provided, so inferred frequency W-SUN will be used.\n",
      "  % freq, ValueWarning)\n",
      "C:\\Users\\abhin\\anaconda3\\envs\\tf-gpu\\lib\\site-packages\\statsmodels\\tsa\\base\\tsa_model.py:162: ValueWarning: No frequency information was provided, so inferred frequency W-SUN will be used.\n",
      "  % freq, ValueWarning)\n",
      "C:\\Users\\abhin\\anaconda3\\envs\\tf-gpu\\lib\\site-packages\\statsmodels\\tsa\\base\\tsa_model.py:162: ValueWarning: No frequency information was provided, so inferred frequency W-SUN will be used.\n",
      "  % freq, ValueWarning)\n",
      "C:\\Users\\abhin\\anaconda3\\envs\\tf-gpu\\lib\\site-packages\\statsmodels\\tsa\\base\\tsa_model.py:162: ValueWarning: No frequency information was provided, so inferred frequency W-SUN will be used.\n",
      "  % freq, ValueWarning)\n"
     ]
    },
    {
     "name": "stdout",
     "output_type": "stream",
     "text": [
      "ARIMA(0, 1, 1)x(1, 0, 1, 12)12 - AIC:1601.9144680109332\n",
      "ARIMA(0, 1, 1)x(1, 1, 0, 12)12 - AIC:1640.0835448231512\n"
     ]
    },
    {
     "name": "stderr",
     "output_type": "stream",
     "text": [
      "C:\\Users\\abhin\\anaconda3\\envs\\tf-gpu\\lib\\site-packages\\statsmodels\\tsa\\base\\tsa_model.py:162: ValueWarning: No frequency information was provided, so inferred frequency W-SUN will be used.\n",
      "  % freq, ValueWarning)\n",
      "C:\\Users\\abhin\\anaconda3\\envs\\tf-gpu\\lib\\site-packages\\statsmodels\\tsa\\base\\tsa_model.py:162: ValueWarning: No frequency information was provided, so inferred frequency W-SUN will be used.\n",
      "  % freq, ValueWarning)\n",
      "C:\\Users\\abhin\\anaconda3\\envs\\tf-gpu\\lib\\site-packages\\statsmodels\\tsa\\base\\tsa_model.py:162: ValueWarning: No frequency information was provided, so inferred frequency W-SUN will be used.\n",
      "  % freq, ValueWarning)\n",
      "C:\\Users\\abhin\\anaconda3\\envs\\tf-gpu\\lib\\site-packages\\statsmodels\\tsa\\base\\tsa_model.py:162: ValueWarning: No frequency information was provided, so inferred frequency W-SUN will be used.\n",
      "  % freq, ValueWarning)\n"
     ]
    },
    {
     "name": "stdout",
     "output_type": "stream",
     "text": [
      "ARIMA(0, 1, 1)x(1, 1, 1, 12)12 - AIC:1558.4671247462552\n",
      "ARIMA(1, 0, 0)x(0, 0, 0, 12)12 - AIC:1723.4769103969827\n"
     ]
    },
    {
     "name": "stderr",
     "output_type": "stream",
     "text": [
      "C:\\Users\\abhin\\anaconda3\\envs\\tf-gpu\\lib\\site-packages\\statsmodels\\tsa\\base\\tsa_model.py:162: ValueWarning: No frequency information was provided, so inferred frequency W-SUN will be used.\n",
      "  % freq, ValueWarning)\n",
      "C:\\Users\\abhin\\anaconda3\\envs\\tf-gpu\\lib\\site-packages\\statsmodels\\tsa\\base\\tsa_model.py:162: ValueWarning: No frequency information was provided, so inferred frequency W-SUN will be used.\n",
      "  % freq, ValueWarning)\n",
      "C:\\Users\\abhin\\anaconda3\\envs\\tf-gpu\\lib\\site-packages\\statsmodels\\base\\model.py:568: ConvergenceWarning: Maximum Likelihood optimization failed to converge. Check mle_retvals\n",
      "  \"Check mle_retvals\", ConvergenceWarning)\n",
      "C:\\Users\\abhin\\anaconda3\\envs\\tf-gpu\\lib\\site-packages\\statsmodels\\tsa\\base\\tsa_model.py:162: ValueWarning: No frequency information was provided, so inferred frequency W-SUN will be used.\n",
      "  % freq, ValueWarning)\n",
      "C:\\Users\\abhin\\anaconda3\\envs\\tf-gpu\\lib\\site-packages\\statsmodels\\tsa\\base\\tsa_model.py:162: ValueWarning: No frequency information was provided, so inferred frequency W-SUN will be used.\n",
      "  % freq, ValueWarning)\n"
     ]
    },
    {
     "name": "stdout",
     "output_type": "stream",
     "text": [
      "ARIMA(1, 0, 0)x(0, 0, 1, 12)12 - AIC:1643.9278432928486\n",
      "ARIMA(1, 0, 0)x(0, 1, 0, 12)12 - AIC:1744.678136057512\n"
     ]
    },
    {
     "name": "stderr",
     "output_type": "stream",
     "text": [
      "C:\\Users\\abhin\\anaconda3\\envs\\tf-gpu\\lib\\site-packages\\statsmodels\\tsa\\base\\tsa_model.py:162: ValueWarning: No frequency information was provided, so inferred frequency W-SUN will be used.\n",
      "  % freq, ValueWarning)\n",
      "C:\\Users\\abhin\\anaconda3\\envs\\tf-gpu\\lib\\site-packages\\statsmodels\\tsa\\base\\tsa_model.py:162: ValueWarning: No frequency information was provided, so inferred frequency W-SUN will be used.\n",
      "  % freq, ValueWarning)\n",
      "C:\\Users\\abhin\\anaconda3\\envs\\tf-gpu\\lib\\site-packages\\statsmodels\\tsa\\base\\tsa_model.py:162: ValueWarning: No frequency information was provided, so inferred frequency W-SUN will be used.\n",
      "  % freq, ValueWarning)\n",
      "C:\\Users\\abhin\\anaconda3\\envs\\tf-gpu\\lib\\site-packages\\statsmodels\\tsa\\base\\tsa_model.py:162: ValueWarning: No frequency information was provided, so inferred frequency W-SUN will be used.\n",
      "  % freq, ValueWarning)\n"
     ]
    },
    {
     "name": "stdout",
     "output_type": "stream",
     "text": [
      "ARIMA(1, 0, 0)x(0, 1, 1, 12)12 - AIC:1573.4087809749844\n",
      "ARIMA(1, 0, 0)x(1, 0, 0, 12)12 - AIC:1643.9540138251068\n"
     ]
    },
    {
     "name": "stderr",
     "output_type": "stream",
     "text": [
      "C:\\Users\\abhin\\anaconda3\\envs\\tf-gpu\\lib\\site-packages\\statsmodels\\tsa\\base\\tsa_model.py:162: ValueWarning: No frequency information was provided, so inferred frequency W-SUN will be used.\n",
      "  % freq, ValueWarning)\n",
      "C:\\Users\\abhin\\anaconda3\\envs\\tf-gpu\\lib\\site-packages\\statsmodels\\tsa\\base\\tsa_model.py:162: ValueWarning: No frequency information was provided, so inferred frequency W-SUN will be used.\n",
      "  % freq, ValueWarning)\n",
      "C:\\Users\\abhin\\anaconda3\\envs\\tf-gpu\\lib\\site-packages\\statsmodels\\tsa\\base\\tsa_model.py:162: ValueWarning: No frequency information was provided, so inferred frequency W-SUN will be used.\n",
      "  % freq, ValueWarning)\n",
      "C:\\Users\\abhin\\anaconda3\\envs\\tf-gpu\\lib\\site-packages\\statsmodels\\tsa\\base\\tsa_model.py:162: ValueWarning: No frequency information was provided, so inferred frequency W-SUN will be used.\n",
      "  % freq, ValueWarning)\n"
     ]
    },
    {
     "name": "stdout",
     "output_type": "stream",
     "text": [
      "ARIMA(1, 0, 0)x(1, 0, 1, 12)12 - AIC:1645.9100031715868\n",
      "ARIMA(1, 0, 0)x(1, 1, 0, 12)12 - AIC:1611.8421640447443\n"
     ]
    },
    {
     "name": "stderr",
     "output_type": "stream",
     "text": [
      "C:\\Users\\abhin\\anaconda3\\envs\\tf-gpu\\lib\\site-packages\\statsmodels\\tsa\\base\\tsa_model.py:162: ValueWarning: No frequency information was provided, so inferred frequency W-SUN will be used.\n",
      "  % freq, ValueWarning)\n",
      "C:\\Users\\abhin\\anaconda3\\envs\\tf-gpu\\lib\\site-packages\\statsmodels\\tsa\\base\\tsa_model.py:162: ValueWarning: No frequency information was provided, so inferred frequency W-SUN will be used.\n",
      "  % freq, ValueWarning)\n",
      "C:\\Users\\abhin\\anaconda3\\envs\\tf-gpu\\lib\\site-packages\\statsmodels\\tsa\\base\\tsa_model.py:162: ValueWarning: No frequency information was provided, so inferred frequency W-SUN will be used.\n",
      "  % freq, ValueWarning)\n",
      "C:\\Users\\abhin\\anaconda3\\envs\\tf-gpu\\lib\\site-packages\\statsmodels\\tsa\\base\\tsa_model.py:162: ValueWarning: No frequency information was provided, so inferred frequency W-SUN will be used.\n",
      "  % freq, ValueWarning)\n"
     ]
    },
    {
     "name": "stdout",
     "output_type": "stream",
     "text": [
      "ARIMA(1, 0, 0)x(1, 1, 1, 12)12 - AIC:1575.260519234249\n",
      "ARIMA(1, 0, 1)x(0, 0, 0, 12)12 - AIC:1682.7843019376683\n"
     ]
    },
    {
     "name": "stderr",
     "output_type": "stream",
     "text": [
      "C:\\Users\\abhin\\anaconda3\\envs\\tf-gpu\\lib\\site-packages\\statsmodels\\tsa\\base\\tsa_model.py:162: ValueWarning: No frequency information was provided, so inferred frequency W-SUN will be used.\n",
      "  % freq, ValueWarning)\n",
      "C:\\Users\\abhin\\anaconda3\\envs\\tf-gpu\\lib\\site-packages\\statsmodels\\tsa\\base\\tsa_model.py:162: ValueWarning: No frequency information was provided, so inferred frequency W-SUN will be used.\n",
      "  % freq, ValueWarning)\n",
      "C:\\Users\\abhin\\anaconda3\\envs\\tf-gpu\\lib\\site-packages\\statsmodels\\tsa\\base\\tsa_model.py:162: ValueWarning: No frequency information was provided, so inferred frequency W-SUN will be used.\n",
      "  % freq, ValueWarning)\n",
      "C:\\Users\\abhin\\anaconda3\\envs\\tf-gpu\\lib\\site-packages\\statsmodels\\tsa\\base\\tsa_model.py:162: ValueWarning: No frequency information was provided, so inferred frequency W-SUN will be used.\n",
      "  % freq, ValueWarning)\n"
     ]
    },
    {
     "name": "stdout",
     "output_type": "stream",
     "text": [
      "ARIMA(1, 0, 1)x(0, 0, 1, 12)12 - AIC:1608.303487584873\n",
      "ARIMA(1, 0, 1)x(0, 1, 0, 12)12 - AIC:1739.2853699710136\n"
     ]
    },
    {
     "name": "stderr",
     "output_type": "stream",
     "text": [
      "C:\\Users\\abhin\\anaconda3\\envs\\tf-gpu\\lib\\site-packages\\statsmodels\\tsa\\base\\tsa_model.py:162: ValueWarning: No frequency information was provided, so inferred frequency W-SUN will be used.\n",
      "  % freq, ValueWarning)\n",
      "C:\\Users\\abhin\\anaconda3\\envs\\tf-gpu\\lib\\site-packages\\statsmodels\\tsa\\base\\tsa_model.py:162: ValueWarning: No frequency information was provided, so inferred frequency W-SUN will be used.\n",
      "  % freq, ValueWarning)\n",
      "C:\\Users\\abhin\\anaconda3\\envs\\tf-gpu\\lib\\site-packages\\statsmodels\\tsa\\base\\tsa_model.py:162: ValueWarning: No frequency information was provided, so inferred frequency W-SUN will be used.\n",
      "  % freq, ValueWarning)\n",
      "C:\\Users\\abhin\\anaconda3\\envs\\tf-gpu\\lib\\site-packages\\statsmodels\\tsa\\base\\tsa_model.py:162: ValueWarning: No frequency information was provided, so inferred frequency W-SUN will be used.\n",
      "  % freq, ValueWarning)\n"
     ]
    },
    {
     "name": "stdout",
     "output_type": "stream",
     "text": [
      "ARIMA(1, 0, 1)x(0, 1, 1, 12)12 - AIC:1558.6912769735566\n"
     ]
    },
    {
     "name": "stderr",
     "output_type": "stream",
     "text": [
      "C:\\Users\\abhin\\anaconda3\\envs\\tf-gpu\\lib\\site-packages\\statsmodels\\tsa\\base\\tsa_model.py:162: ValueWarning: No frequency information was provided, so inferred frequency W-SUN will be used.\n",
      "  % freq, ValueWarning)\n",
      "C:\\Users\\abhin\\anaconda3\\envs\\tf-gpu\\lib\\site-packages\\statsmodels\\tsa\\base\\tsa_model.py:162: ValueWarning: No frequency information was provided, so inferred frequency W-SUN will be used.\n",
      "  % freq, ValueWarning)\n"
     ]
    },
    {
     "name": "stdout",
     "output_type": "stream",
     "text": [
      "ARIMA(1, 0, 1)x(1, 0, 0, 12)12 - AIC:1614.241625186994\n"
     ]
    },
    {
     "name": "stderr",
     "output_type": "stream",
     "text": [
      "C:\\Users\\abhin\\anaconda3\\envs\\tf-gpu\\lib\\site-packages\\statsmodels\\tsa\\base\\tsa_model.py:162: ValueWarning: No frequency information was provided, so inferred frequency W-SUN will be used.\n",
      "  % freq, ValueWarning)\n",
      "C:\\Users\\abhin\\anaconda3\\envs\\tf-gpu\\lib\\site-packages\\statsmodels\\tsa\\base\\tsa_model.py:162: ValueWarning: No frequency information was provided, so inferred frequency W-SUN will be used.\n",
      "  % freq, ValueWarning)\n"
     ]
    },
    {
     "name": "stdout",
     "output_type": "stream",
     "text": [
      "ARIMA(1, 0, 1)x(1, 0, 1, 12)12 - AIC:1618.249166436081\n",
      "ARIMA(1, 0, 1)x(1, 1, 0, 12)12 - AIC:1612.490832579444\n"
     ]
    },
    {
     "name": "stderr",
     "output_type": "stream",
     "text": [
      "C:\\Users\\abhin\\anaconda3\\envs\\tf-gpu\\lib\\site-packages\\statsmodels\\tsa\\base\\tsa_model.py:162: ValueWarning: No frequency information was provided, so inferred frequency W-SUN will be used.\n",
      "  % freq, ValueWarning)\n",
      "C:\\Users\\abhin\\anaconda3\\envs\\tf-gpu\\lib\\site-packages\\statsmodels\\tsa\\base\\tsa_model.py:162: ValueWarning: No frequency information was provided, so inferred frequency W-SUN will be used.\n",
      "  % freq, ValueWarning)\n",
      "C:\\Users\\abhin\\anaconda3\\envs\\tf-gpu\\lib\\site-packages\\statsmodels\\tsa\\base\\tsa_model.py:162: ValueWarning: No frequency information was provided, so inferred frequency W-SUN will be used.\n",
      "  % freq, ValueWarning)\n",
      "C:\\Users\\abhin\\anaconda3\\envs\\tf-gpu\\lib\\site-packages\\statsmodels\\tsa\\base\\tsa_model.py:162: ValueWarning: No frequency information was provided, so inferred frequency W-SUN will be used.\n",
      "  % freq, ValueWarning)\n"
     ]
    },
    {
     "name": "stdout",
     "output_type": "stream",
     "text": [
      "ARIMA(1, 0, 1)x(1, 1, 1, 12)12 - AIC:1560.6456832586482\n",
      "ARIMA(1, 1, 0)x(0, 0, 0, 12)12 - AIC:1690.6732967825922\n",
      "ARIMA(1, 1, 0)x(0, 0, 1, 12)12 - AIC:1614.350800548432"
     ]
    },
    {
     "name": "stderr",
     "output_type": "stream",
     "text": [
      "C:\\Users\\abhin\\anaconda3\\envs\\tf-gpu\\lib\\site-packages\\statsmodels\\tsa\\base\\tsa_model.py:162: ValueWarning: No frequency information was provided, so inferred frequency W-SUN will be used.\n",
      "  % freq, ValueWarning)\n",
      "C:\\Users\\abhin\\anaconda3\\envs\\tf-gpu\\lib\\site-packages\\statsmodels\\tsa\\base\\tsa_model.py:162: ValueWarning: No frequency information was provided, so inferred frequency W-SUN will be used.\n",
      "  % freq, ValueWarning)\n",
      "C:\\Users\\abhin\\anaconda3\\envs\\tf-gpu\\lib\\site-packages\\statsmodels\\tsa\\base\\tsa_model.py:162: ValueWarning: No frequency information was provided, so inferred frequency W-SUN will be used.\n",
      "  % freq, ValueWarning)\n",
      "C:\\Users\\abhin\\anaconda3\\envs\\tf-gpu\\lib\\site-packages\\statsmodels\\tsa\\base\\tsa_model.py:162: ValueWarning: No frequency information was provided, so inferred frequency W-SUN will be used.\n",
      "  % freq, ValueWarning)\n"
     ]
    },
    {
     "name": "stdout",
     "output_type": "stream",
     "text": [
      "\n",
      "ARIMA(1, 1, 0)x(0, 1, 0, 12)12 - AIC:1785.9286872646392\n"
     ]
    },
    {
     "name": "stderr",
     "output_type": "stream",
     "text": [
      "C:\\Users\\abhin\\anaconda3\\envs\\tf-gpu\\lib\\site-packages\\statsmodels\\tsa\\base\\tsa_model.py:162: ValueWarning: No frequency information was provided, so inferred frequency W-SUN will be used.\n",
      "  % freq, ValueWarning)\n",
      "C:\\Users\\abhin\\anaconda3\\envs\\tf-gpu\\lib\\site-packages\\statsmodels\\tsa\\base\\tsa_model.py:162: ValueWarning: No frequency information was provided, so inferred frequency W-SUN will be used.\n",
      "  % freq, ValueWarning)\n",
      "C:\\Users\\abhin\\anaconda3\\envs\\tf-gpu\\lib\\site-packages\\statsmodels\\tsa\\base\\tsa_model.py:162: ValueWarning: No frequency information was provided, so inferred frequency W-SUN will be used.\n",
      "  % freq, ValueWarning)\n",
      "C:\\Users\\abhin\\anaconda3\\envs\\tf-gpu\\lib\\site-packages\\statsmodels\\tsa\\base\\tsa_model.py:162: ValueWarning: No frequency information was provided, so inferred frequency W-SUN will be used.\n",
      "  % freq, ValueWarning)\n"
     ]
    },
    {
     "name": "stdout",
     "output_type": "stream",
     "text": [
      "ARIMA(1, 1, 0)x(0, 1, 1, 12)12 - AIC:1571.407365652473\n",
      "ARIMA(1, 1, 0)x(1, 0, 0, 12)12 - AIC:1614.4357305416306\n"
     ]
    },
    {
     "name": "stderr",
     "output_type": "stream",
     "text": [
      "C:\\Users\\abhin\\anaconda3\\envs\\tf-gpu\\lib\\site-packages\\statsmodels\\tsa\\base\\tsa_model.py:162: ValueWarning: No frequency information was provided, so inferred frequency W-SUN will be used.\n",
      "  % freq, ValueWarning)\n",
      "C:\\Users\\abhin\\anaconda3\\envs\\tf-gpu\\lib\\site-packages\\statsmodels\\tsa\\base\\tsa_model.py:162: ValueWarning: No frequency information was provided, so inferred frequency W-SUN will be used.\n",
      "  % freq, ValueWarning)\n",
      "C:\\Users\\abhin\\anaconda3\\envs\\tf-gpu\\lib\\site-packages\\statsmodels\\tsa\\base\\tsa_model.py:162: ValueWarning: No frequency information was provided, so inferred frequency W-SUN will be used.\n",
      "  % freq, ValueWarning)\n",
      "C:\\Users\\abhin\\anaconda3\\envs\\tf-gpu\\lib\\site-packages\\statsmodels\\tsa\\base\\tsa_model.py:162: ValueWarning: No frequency information was provided, so inferred frequency W-SUN will be used.\n",
      "  % freq, ValueWarning)\n"
     ]
    },
    {
     "name": "stdout",
     "output_type": "stream",
     "text": [
      "ARIMA(1, 1, 0)x(1, 0, 1, 12)12 - AIC:1616.0983119987627\n",
      "ARIMA(1, 1, 0)x(1, 1, 0, 12)12 - AIC:1641.5589806795956\n"
     ]
    },
    {
     "name": "stderr",
     "output_type": "stream",
     "text": [
      "C:\\Users\\abhin\\anaconda3\\envs\\tf-gpu\\lib\\site-packages\\statsmodels\\tsa\\base\\tsa_model.py:162: ValueWarning: No frequency information was provided, so inferred frequency W-SUN will be used.\n",
      "  % freq, ValueWarning)\n",
      "C:\\Users\\abhin\\anaconda3\\envs\\tf-gpu\\lib\\site-packages\\statsmodels\\tsa\\base\\tsa_model.py:162: ValueWarning: No frequency information was provided, so inferred frequency W-SUN will be used.\n",
      "  % freq, ValueWarning)\n",
      "C:\\Users\\abhin\\anaconda3\\envs\\tf-gpu\\lib\\site-packages\\statsmodels\\tsa\\base\\tsa_model.py:162: ValueWarning: No frequency information was provided, so inferred frequency W-SUN will be used.\n",
      "  % freq, ValueWarning)\n",
      "C:\\Users\\abhin\\anaconda3\\envs\\tf-gpu\\lib\\site-packages\\statsmodels\\tsa\\base\\tsa_model.py:162: ValueWarning: No frequency information was provided, so inferred frequency W-SUN will be used.\n",
      "  % freq, ValueWarning)\n"
     ]
    },
    {
     "name": "stdout",
     "output_type": "stream",
     "text": [
      "ARIMA(1, 1, 0)x(1, 1, 1, 12)12 - AIC:1573.3967745683456\n",
      "ARIMA(1, 1, 1)x(0, 0, 0, 12)12 - AIC:1657.604413478492\n"
     ]
    },
    {
     "name": "stderr",
     "output_type": "stream",
     "text": [
      "C:\\Users\\abhin\\anaconda3\\envs\\tf-gpu\\lib\\site-packages\\statsmodels\\tsa\\base\\tsa_model.py:162: ValueWarning: No frequency information was provided, so inferred frequency W-SUN will be used.\n",
      "  % freq, ValueWarning)\n",
      "C:\\Users\\abhin\\anaconda3\\envs\\tf-gpu\\lib\\site-packages\\statsmodels\\tsa\\base\\tsa_model.py:162: ValueWarning: No frequency information was provided, so inferred frequency W-SUN will be used.\n",
      "  % freq, ValueWarning)\n",
      "C:\\Users\\abhin\\anaconda3\\envs\\tf-gpu\\lib\\site-packages\\statsmodels\\tsa\\base\\tsa_model.py:162: ValueWarning: No frequency information was provided, so inferred frequency W-SUN will be used.\n",
      "  % freq, ValueWarning)\n",
      "C:\\Users\\abhin\\anaconda3\\envs\\tf-gpu\\lib\\site-packages\\statsmodels\\tsa\\base\\tsa_model.py:162: ValueWarning: No frequency information was provided, so inferred frequency W-SUN will be used.\n",
      "  % freq, ValueWarning)\n"
     ]
    },
    {
     "name": "stdout",
     "output_type": "stream",
     "text": [
      "ARIMA(1, 1, 1)x(0, 0, 1, 12)12 - AIC:1584.067750902857\n"
     ]
    },
    {
     "name": "stderr",
     "output_type": "stream",
     "text": [
      "C:\\Users\\abhin\\anaconda3\\envs\\tf-gpu\\lib\\site-packages\\statsmodels\\tsa\\base\\tsa_model.py:162: ValueWarning: No frequency information was provided, so inferred frequency W-SUN will be used.\n",
      "  % freq, ValueWarning)\n",
      "C:\\Users\\abhin\\anaconda3\\envs\\tf-gpu\\lib\\site-packages\\statsmodels\\tsa\\base\\tsa_model.py:162: ValueWarning: No frequency information was provided, so inferred frequency W-SUN will be used.\n",
      "  % freq, ValueWarning)\n"
     ]
    },
    {
     "name": "stdout",
     "output_type": "stream",
     "text": [
      "ARIMA(1, 1, 1)x(0, 1, 0, 12)12 - AIC:1734.5812904423278\n"
     ]
    },
    {
     "name": "stderr",
     "output_type": "stream",
     "text": [
      "C:\\Users\\abhin\\anaconda3\\envs\\tf-gpu\\lib\\site-packages\\statsmodels\\tsa\\base\\tsa_model.py:162: ValueWarning: No frequency information was provided, so inferred frequency W-SUN will be used.\n",
      "  % freq, ValueWarning)\n",
      "C:\\Users\\abhin\\anaconda3\\envs\\tf-gpu\\lib\\site-packages\\statsmodels\\tsa\\base\\tsa_model.py:162: ValueWarning: No frequency information was provided, so inferred frequency W-SUN will be used.\n",
      "  % freq, ValueWarning)\n"
     ]
    },
    {
     "name": "stdout",
     "output_type": "stream",
     "text": [
      "ARIMA(1, 1, 1)x(0, 1, 1, 12)12 - AIC:1538.1412043424948\n"
     ]
    },
    {
     "name": "stderr",
     "output_type": "stream",
     "text": [
      "C:\\Users\\abhin\\anaconda3\\envs\\tf-gpu\\lib\\site-packages\\statsmodels\\tsa\\base\\tsa_model.py:162: ValueWarning: No frequency information was provided, so inferred frequency W-SUN will be used.\n",
      "  % freq, ValueWarning)\n",
      "C:\\Users\\abhin\\anaconda3\\envs\\tf-gpu\\lib\\site-packages\\statsmodels\\tsa\\base\\tsa_model.py:162: ValueWarning: No frequency information was provided, so inferred frequency W-SUN will be used.\n",
      "  % freq, ValueWarning)\n"
     ]
    },
    {
     "name": "stdout",
     "output_type": "stream",
     "text": [
      "ARIMA(1, 1, 1)x(1, 0, 0, 12)12 - AIC:1590.2565234382978\n"
     ]
    },
    {
     "name": "stderr",
     "output_type": "stream",
     "text": [
      "C:\\Users\\abhin\\anaconda3\\envs\\tf-gpu\\lib\\site-packages\\statsmodels\\tsa\\base\\tsa_model.py:162: ValueWarning: No frequency information was provided, so inferred frequency W-SUN will be used.\n",
      "  % freq, ValueWarning)\n",
      "C:\\Users\\abhin\\anaconda3\\envs\\tf-gpu\\lib\\site-packages\\statsmodels\\tsa\\base\\tsa_model.py:162: ValueWarning: No frequency information was provided, so inferred frequency W-SUN will be used.\n",
      "  % freq, ValueWarning)\n"
     ]
    },
    {
     "name": "stdout",
     "output_type": "stream",
     "text": [
      "ARIMA(1, 1, 1)x(1, 0, 1, 12)12 - AIC:1586.0577073258196\n"
     ]
    },
    {
     "name": "stderr",
     "output_type": "stream",
     "text": [
      "C:\\Users\\abhin\\anaconda3\\envs\\tf-gpu\\lib\\site-packages\\statsmodels\\tsa\\base\\tsa_model.py:162: ValueWarning: No frequency information was provided, so inferred frequency W-SUN will be used.\n",
      "  % freq, ValueWarning)\n",
      "C:\\Users\\abhin\\anaconda3\\envs\\tf-gpu\\lib\\site-packages\\statsmodels\\tsa\\base\\tsa_model.py:162: ValueWarning: No frequency information was provided, so inferred frequency W-SUN will be used.\n",
      "  % freq, ValueWarning)\n"
     ]
    },
    {
     "name": "stdout",
     "output_type": "stream",
     "text": [
      "ARIMA(1, 1, 1)x(1, 1, 0, 12)12 - AIC:1607.4437896561612\n"
     ]
    },
    {
     "name": "stderr",
     "output_type": "stream",
     "text": [
      "C:\\Users\\abhin\\anaconda3\\envs\\tf-gpu\\lib\\site-packages\\statsmodels\\tsa\\base\\tsa_model.py:162: ValueWarning: No frequency information was provided, so inferred frequency W-SUN will be used.\n",
      "  % freq, ValueWarning)\n",
      "C:\\Users\\abhin\\anaconda3\\envs\\tf-gpu\\lib\\site-packages\\statsmodels\\tsa\\base\\tsa_model.py:162: ValueWarning: No frequency information was provided, so inferred frequency W-SUN will be used.\n",
      "  % freq, ValueWarning)\n"
     ]
    },
    {
     "name": "stdout",
     "output_type": "stream",
     "text": [
      "ARIMA(1, 1, 1)x(1, 1, 1, 12)12 - AIC:1540.1408832146158\n"
     ]
    }
   ],
   "source": [
    "for param in pdq:\n",
    "    for param_seasonal in seasonal_pdq:\n",
    "        mod = sm.tsa.statespace.SARIMAX(peak,order=param,seasonal_order=param_seasonal,enforce_stationarity=False,enforce_invertibility=False)\n",
    "        results = mod.fit()\n",
    "        print('ARIMA{}x{}12 - AIC:{}'.format(param,param_seasonal,results.aic))"
   ]
  },
  {
   "cell_type": "code",
   "execution_count": 26,
   "metadata": {},
   "outputs": [
    {
     "name": "stderr",
     "output_type": "stream",
     "text": [
      "C:\\Users\\abhin\\anaconda3\\envs\\tf-gpu\\lib\\site-packages\\statsmodels\\tsa\\base\\tsa_model.py:162: ValueWarning: No frequency information was provided, so inferred frequency W-SUN will be used.\n",
      "  % freq, ValueWarning)\n",
      "C:\\Users\\abhin\\anaconda3\\envs\\tf-gpu\\lib\\site-packages\\statsmodels\\tsa\\base\\tsa_model.py:162: ValueWarning: No frequency information was provided, so inferred frequency W-SUN will be used.\n",
      "  % freq, ValueWarning)\n"
     ]
    },
    {
     "name": "stdout",
     "output_type": "stream",
     "text": [
      "==============================================================================\n",
      "                 coef    std err          z      P>|z|      [0.025      0.975]\n",
      "------------------------------------------------------------------------------\n",
      "ma.L1          0.5218      0.050     10.365      0.000       0.423       0.620\n",
      "ar.S.L12       0.0028      0.016      0.172      0.864      -0.029       0.035\n",
      "ma.S.L12      -0.5278      0.058     -9.148      0.000      -0.641      -0.415\n",
      "sigma2        55.0002      3.049     18.038      0.000      49.024      60.976\n",
      "==============================================================================\n"
     ]
    }
   ],
   "source": [
    "mod = sm.tsa.statespace.SARIMAX(peak,\n",
    "                                order=(0, 0, 1),\n",
    "                                seasonal_order=(1, 1, 1, 12),\n",
    "                                enforce_stationarity=False,\n",
    "                                enforce_invertibility=False)\n",
    "results = mod.fit()\n",
    "print(results.summary().tables[1])"
   ]
  },
  {
   "cell_type": "code",
   "execution_count": 47,
   "metadata": {},
   "outputs": [
    {
     "data": {
      "text/plain": [
       "-9.665688183229973"
      ]
     },
     "execution_count": 47,
     "metadata": {},
     "output_type": "execute_result"
    }
   ],
   "source": [
    "pred = results.get_prediction(start=pd.to_datetime('2019-10-20'), end=pd.to_datetime('2022-1-19'), dynamic=False)\n",
    "end = pred.predicted_mean['2021-09-26']\n",
    "start = pred.predicted_mean['2021-09-19']\n",
    "change_per = (end-start)/start*100\n",
    "change_per"
   ]
  },
  {
   "cell_type": "code",
   "execution_count": 30,
   "metadata": {},
   "outputs": [
    {
     "data": {
      "image/png": "[encoded data removed]",
      "text/plain": [
       "<Figure size 1008x288 with 1 Axes>"
      ]
     },
     "metadata": {
      "needs_background": "light"
     },
     "output_type": "display_data"
    }
   ],
   "source": [
    "import matplotlib.pyplot as plt\n",
    "pred_ci = pred.conf_int()\n",
    "ax = peak['2015':].plot(label='observed')\n",
    "pred.predicted_mean.plot(ax=ax, label='One-step ahead Forecast', alpha=.7, figsize=(14, 4))\n",
    "ax.fill_between(pred_ci.index,\n",
    "                pred_ci.iloc[:, 0],\n",
    "                pred_ci.iloc[:, 1], color='k', alpha=.2)\n",
    "ax.set_xlabel('Date')\n",
    "ax.set_ylabel('Retail_sold')\n",
    "plt.legend()\n",
    "plt.show()"
   ]
  },
  {
   "cell_type": "code",
   "execution_count": 17,
   "metadata": {},
   "outputs": [
    {
     "name": "stdout",
     "output_type": "stream",
     "text": [
      "The Mean Squared Error is 81.76\n",
      "The Root Mean Squared Error is 9.04\n"
     ]
    }
   ],
   "source": [
    "y_forecasted = pred.predicted_mean\n",
    "y_truth = cas['2018-06-01':]\n",
    "mse = ((y_forecasted - y_truth) ** 2).mean()\n",
    "print('The Mean Squared Error is {}'.format(round(mse, 2)))\n",
    "print('The Root Mean Squared Error is {}'.format(round(np.sqrt(mse), 2)))"
   ]
  },
  {
   "cell_type": "code",
   "execution_count": 18,
   "metadata": {},
   "outputs": [
    {
     "data": {
      "text/plain": [
       "2021-07-04    62.325046\n",
       "2021-07-11    64.549923\n",
       "2021-07-18    68.738658\n",
       "2021-07-25    69.503988\n",
       "2021-08-01    59.828319\n",
       "2021-08-08    58.650586\n",
       "2021-08-15    59.639763\n",
       "2021-08-22    55.189651\n",
       "2021-08-29    63.920648\n",
       "2021-09-05    50.706180\n",
       "2021-09-12    57.386760\n",
       "2021-09-19    60.851686\n",
       "Freq: W-SUN, dtype: float64"
      ]
     },
     "execution_count": 18,
     "metadata": {},
     "output_type": "execute_result"
    }
   ],
   "source": [
    "y_forecasted = pred.predicted_mean\n",
    "y_forecasted.tail(12)"
   ]
  },
  {
   "cell_type": "code",
   "execution_count": 19,
   "metadata": {},
   "outputs": [
    {
     "data": {
      "text/plain": [
       "date\n",
       "2018-06-03    33\n",
       "2018-06-10    34\n",
       "2018-06-17    39\n",
       "2018-06-24    33\n",
       "2018-07-01    35\n",
       "2018-07-08    29\n",
       "2018-07-15    31\n",
       "2018-07-22    39\n",
       "2018-07-29    36\n",
       "2018-08-05    41\n",
       "2018-08-12    37\n",
       "2018-08-19    34\n",
       "Name: peak, dtype: int32"
      ]
     },
     "execution_count": 19,
     "metadata": {},
     "output_type": "execute_result"
    }
   ],
   "source": [
    "y_truth.head(12)"
   ]
  },
  {
   "cell_type": "code",
   "execution_count": 30,
   "metadata": {},
   "outputs": [
    {
     "data": {
      "text/html": [
       "<div>\n",
       "<style scoped>\n",
       "    .dataframe tbody tr th:only-of-type {\n",
       "        vertical-align: middle;\n",
       "    }\n",
       "\n",
       "    .dataframe tbody tr th {\n",
       "        vertical-align: top;\n",
       "    }\n",
       "\n",
       "    .dataframe thead th {\n",
       "        text-align: right;\n",
       "    }\n",
       "</style>\n",
       "<table border=\"1\" class=\"dataframe\">\n",
       "  <thead>\n",
       "    <tr style=\"text-align: right;\">\n",
       "      <th></th>\n",
       "      <th>lower choice</th>\n",
       "      <th>upper choice</th>\n",
       "    </tr>\n",
       "  </thead>\n",
       "  <tbody>\n",
       "    <tr>\n",
       "      <th>2019-10-20</th>\n",
       "      <td>19.949467</td>\n",
       "      <td>36.106399</td>\n",
       "    </tr>\n",
       "    <tr>\n",
       "      <th>2019-10-27</th>\n",
       "      <td>18.626119</td>\n",
       "      <td>34.783051</td>\n",
       "    </tr>\n",
       "    <tr>\n",
       "      <th>2019-11-03</th>\n",
       "      <td>18.307955</td>\n",
       "      <td>34.464887</td>\n",
       "    </tr>\n",
       "    <tr>\n",
       "      <th>2019-11-10</th>\n",
       "      <td>20.003029</td>\n",
       "      <td>36.159961</td>\n",
       "    </tr>\n",
       "    <tr>\n",
       "      <th>2019-11-17</th>\n",
       "      <td>22.510147</td>\n",
       "      <td>38.667079</td>\n",
       "    </tr>\n",
       "    <tr>\n",
       "      <th>2019-11-24</th>\n",
       "      <td>21.398665</td>\n",
       "      <td>37.555597</td>\n",
       "    </tr>\n",
       "    <tr>\n",
       "      <th>2019-12-01</th>\n",
       "      <td>21.354619</td>\n",
       "      <td>37.511551</td>\n",
       "    </tr>\n",
       "    <tr>\n",
       "      <th>2019-12-08</th>\n",
       "      <td>28.634961</td>\n",
       "      <td>44.791893</td>\n",
       "    </tr>\n",
       "    <tr>\n",
       "      <th>2019-12-15</th>\n",
       "      <td>21.692431</td>\n",
       "      <td>37.849363</td>\n",
       "    </tr>\n",
       "    <tr>\n",
       "      <th>2019-12-22</th>\n",
       "      <td>21.175029</td>\n",
       "      <td>37.331961</td>\n",
       "    </tr>\n",
       "    <tr>\n",
       "      <th>2019-12-29</th>\n",
       "      <td>18.034216</td>\n",
       "      <td>34.191148</td>\n",
       "    </tr>\n",
       "    <tr>\n",
       "      <th>2020-01-05</th>\n",
       "      <td>21.834774</td>\n",
       "      <td>37.991706</td>\n",
       "    </tr>\n",
       "    <tr>\n",
       "      <th>2020-01-12</th>\n",
       "      <td>19.087357</td>\n",
       "      <td>35.244289</td>\n",
       "    </tr>\n",
       "    <tr>\n",
       "      <th>2020-01-19</th>\n",
       "      <td>18.607346</td>\n",
       "      <td>34.764278</td>\n",
       "    </tr>\n",
       "    <tr>\n",
       "      <th>2020-01-26</th>\n",
       "      <td>20.400264</td>\n",
       "      <td>36.557196</td>\n",
       "    </tr>\n",
       "    <tr>\n",
       "      <th>2020-02-02</th>\n",
       "      <td>19.868701</td>\n",
       "      <td>36.025633</td>\n",
       "    </tr>\n",
       "    <tr>\n",
       "      <th>2020-02-09</th>\n",
       "      <td>22.999504</td>\n",
       "      <td>39.156436</td>\n",
       "    </tr>\n",
       "    <tr>\n",
       "      <th>2020-02-16</th>\n",
       "      <td>21.223319</td>\n",
       "      <td>37.380251</td>\n",
       "    </tr>\n",
       "    <tr>\n",
       "      <th>2020-02-23</th>\n",
       "      <td>23.473676</td>\n",
       "      <td>39.630607</td>\n",
       "    </tr>\n",
       "    <tr>\n",
       "      <th>2020-03-01</th>\n",
       "      <td>23.774958</td>\n",
       "      <td>39.931890</td>\n",
       "    </tr>\n",
       "    <tr>\n",
       "      <th>2020-03-08</th>\n",
       "      <td>20.934574</td>\n",
       "      <td>37.091506</td>\n",
       "    </tr>\n",
       "    <tr>\n",
       "      <th>2020-03-15</th>\n",
       "      <td>19.785699</td>\n",
       "      <td>35.942630</td>\n",
       "    </tr>\n",
       "    <tr>\n",
       "      <th>2020-03-22</th>\n",
       "      <td>20.109234</td>\n",
       "      <td>36.266166</td>\n",
       "    </tr>\n",
       "    <tr>\n",
       "      <th>2020-03-29</th>\n",
       "      <td>20.759945</td>\n",
       "      <td>36.916876</td>\n",
       "    </tr>\n",
       "  </tbody>\n",
       "</table>\n",
       "</div>"
      ],
      "text/plain": [
       "            lower choice  upper choice\n",
       "2019-10-20     19.949467     36.106399\n",
       "2019-10-27     18.626119     34.783051\n",
       "2019-11-03     18.307955     34.464887\n",
       "2019-11-10     20.003029     36.159961\n",
       "2019-11-17     22.510147     38.667079\n",
       "2019-11-24     21.398665     37.555597\n",
       "2019-12-01     21.354619     37.511551\n",
       "2019-12-08     28.634961     44.791893\n",
       "2019-12-15     21.692431     37.849363\n",
       "2019-12-22     21.175029     37.331961\n",
       "2019-12-29     18.034216     34.191148\n",
       "2020-01-05     21.834774     37.991706\n",
       "2020-01-12     19.087357     35.244289\n",
       "2020-01-19     18.607346     34.764278\n",
       "2020-01-26     20.400264     36.557196\n",
       "2020-02-02     19.868701     36.025633\n",
       "2020-02-09     22.999504     39.156436\n",
       "2020-02-16     21.223319     37.380251\n",
       "2020-02-23     23.473676     39.630607\n",
       "2020-03-01     23.774958     39.931890\n",
       "2020-03-08     20.934574     37.091506\n",
       "2020-03-15     19.785699     35.942630\n",
       "2020-03-22     20.109234     36.266166\n",
       "2020-03-29     20.759945     36.916876"
      ]
     },
     "execution_count": 30,
     "metadata": {},
     "output_type": "execute_result"
    }
   ],
   "source": [
    "pred_ci.head(24)"
   ]
  },
  {
   "cell_type": "code",
   "execution_count": 20,
   "metadata": {},
   "outputs": [
    {
     "data": {
      "image/png": "[encoded data removed]",
      "text/plain": [
       "<Figure size 1008x288 with 1 Axes>"
      ]
     },
     "metadata": {
      "needs_background": "light"
     },
     "output_type": "display_data"
    }
   ],
   "source": [
    "pred_uc = results.get_forecast(steps=12)\n",
    "pred_ci = pred_uc.conf_int()\n",
    "ax = cas.plot(label='observed', figsize=(14, 4))\n",
    "pred_uc.predicted_mean.plot(ax=ax, label='Forecast')\n",
    "ax.fill_between(pred_ci.index,\n",
    "                pred_ci.iloc[:, 0],\n",
    "                pred_ci.iloc[:, 1], color='k', alpha=.25)\n",
    "ax.set_xlabel('Date')\n",
    "ax.set_ylabel('Sales')\n",
    "plt.legend()\n",
    "plt.show()"
   ]
  },
  {
   "cell_type": "code",
   "execution_count": 21,
   "metadata": {},
   "outputs": [
    {
     "data": {
      "text/plain": [
       "2021-09-26    54.969952\n",
       "2021-10-03    67.879064\n",
       "2021-10-10    63.117760\n",
       "2021-10-17    66.637070\n",
       "2021-10-24    63.966153\n",
       "2021-10-31    61.545017\n",
       "2021-11-07    56.849884\n",
       "2021-11-14    63.148271\n",
       "2021-11-21    57.262671\n",
       "2021-11-28    55.035867\n",
       "2021-12-05    60.228831\n",
       "2021-12-12    56.380023\n",
       "Freq: W-SUN, dtype: float64"
      ]
     },
     "execution_count": 21,
     "metadata": {},
     "output_type": "execute_result"
    }
   ],
   "source": [
    "forecast = pred_uc.predicted_mean\n",
    "forecast.head(12)"
   ]
  },
  {
   "cell_type": "code",
   "execution_count": null,
   "metadata": {},
   "outputs": [],
   "source": []
  }
 ],
 "metadata": {
  "kernelspec": {
   "display_name": "Python 3",
   "language": "python",
   "name": "python3"
  },
  "language_info": {
   "codemirror_mode": {
    "name": "ipython",
    "version": 3
   },
   "file_extension": ".py",
   "mimetype": "text/x-python",
   "name": "python",
   "nbconvert_exporter": "python",
   "pygments_lexer": "ipython3",
   "version": "3.7.7"
  }
 },
 "nbformat": 4,
 "nbformat_minor": 4
}
